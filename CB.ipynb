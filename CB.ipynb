{
 "cells": [
  {
   "cell_type": "code",
   "execution_count": 1,
   "id": "7f10a130-b803-457f-a3fa-8f8e5f13e772",
   "metadata": {},
   "outputs": [],
   "source": [
    "import pandas as pd\n",
    "import numpy as np\n",
    "import matplotlib.pyplot as plt\n",
    "import seaborn as sns\n",
    "import re"
   ]
  },
  {
   "cell_type": "markdown",
   "id": "1733e8a4-c0ce-4da3-9f64-ef8fff81bde7",
   "metadata": {},
   "source": [
    "# Import Data #"
   ]
  },
  {
   "cell_type": "code",
   "execution_count": 2,
   "id": "87dfbb1d-0e8c-4343-b457-4d153b352ce4",
   "metadata": {
    "tags": []
   },
   "outputs": [
    {
     "data": {
      "text/html": [
       "<div>\n",
       "<style scoped>\n",
       "    .dataframe tbody tr th:only-of-type {\n",
       "        vertical-align: middle;\n",
       "    }\n",
       "\n",
       "    .dataframe tbody tr th {\n",
       "        vertical-align: top;\n",
       "    }\n",
       "\n",
       "    .dataframe thead th {\n",
       "        text-align: right;\n",
       "    }\n",
       "</style>\n",
       "<table border=\"1\" class=\"dataframe\">\n",
       "  <thead>\n",
       "    <tr style=\"text-align: right;\">\n",
       "      <th></th>\n",
       "      <th>Institution</th>\n",
       "      <th>Course Number</th>\n",
       "      <th>Launch Date</th>\n",
       "      <th>Course Title</th>\n",
       "      <th>Instructors</th>\n",
       "      <th>Course Subject</th>\n",
       "      <th>Year</th>\n",
       "      <th>Honor Code Certificates</th>\n",
       "      <th>Participants (Course Content Accessed)</th>\n",
       "      <th>Audited (&gt; 50% Course Content Accessed)</th>\n",
       "      <th>...</th>\n",
       "      <th>% Certified of &gt; 50% Course Content Accessed</th>\n",
       "      <th>% Played Video</th>\n",
       "      <th>% Posted in Forum</th>\n",
       "      <th>% Grade Higher Than Zero</th>\n",
       "      <th>Total Course Hours (Thousands)</th>\n",
       "      <th>Median Hours for Certification</th>\n",
       "      <th>Median Age</th>\n",
       "      <th>% Male</th>\n",
       "      <th>% Female</th>\n",
       "      <th>% Bachelor's Degree or Higher</th>\n",
       "    </tr>\n",
       "  </thead>\n",
       "  <tbody>\n",
       "    <tr>\n",
       "      <th>0</th>\n",
       "      <td>MITx</td>\n",
       "      <td>6.002x</td>\n",
       "      <td>09/05/2012</td>\n",
       "      <td>Circuits and Electronics</td>\n",
       "      <td>Khurram Afridi</td>\n",
       "      <td>Science, Technology, Engineering, and Mathematics</td>\n",
       "      <td>1</td>\n",
       "      <td>1</td>\n",
       "      <td>36105</td>\n",
       "      <td>5431</td>\n",
       "      <td>...</td>\n",
       "      <td>54.98</td>\n",
       "      <td>83.2</td>\n",
       "      <td>8.17</td>\n",
       "      <td>28.97</td>\n",
       "      <td>418.94</td>\n",
       "      <td>64.45</td>\n",
       "      <td>26.0</td>\n",
       "      <td>88.28</td>\n",
       "      <td>11.72</td>\n",
       "      <td>60.68</td>\n",
       "    </tr>\n",
       "    <tr>\n",
       "      <th>1</th>\n",
       "      <td>MITx</td>\n",
       "      <td>6.00x</td>\n",
       "      <td>09/26/2012</td>\n",
       "      <td>Introduction to Computer Science and Programming</td>\n",
       "      <td>Eric Grimson, John Guttag, Chris Terman</td>\n",
       "      <td>Computer Science</td>\n",
       "      <td>1</td>\n",
       "      <td>1</td>\n",
       "      <td>62709</td>\n",
       "      <td>8949</td>\n",
       "      <td>...</td>\n",
       "      <td>64.05</td>\n",
       "      <td>89.14</td>\n",
       "      <td>14.38</td>\n",
       "      <td>39.50</td>\n",
       "      <td>884.04</td>\n",
       "      <td>78.53</td>\n",
       "      <td>28.0</td>\n",
       "      <td>83.50</td>\n",
       "      <td>16.50</td>\n",
       "      <td>63.04</td>\n",
       "    </tr>\n",
       "    <tr>\n",
       "      <th>2</th>\n",
       "      <td>MITx</td>\n",
       "      <td>3.091x</td>\n",
       "      <td>10/09/2012</td>\n",
       "      <td>Introduction to Solid State Chemistry</td>\n",
       "      <td>Michael Cima</td>\n",
       "      <td>Science, Technology, Engineering, and Mathematics</td>\n",
       "      <td>1</td>\n",
       "      <td>1</td>\n",
       "      <td>16663</td>\n",
       "      <td>2855</td>\n",
       "      <td>...</td>\n",
       "      <td>72.85</td>\n",
       "      <td>87.49</td>\n",
       "      <td>14.42</td>\n",
       "      <td>34.89</td>\n",
       "      <td>227.55</td>\n",
       "      <td>61.28</td>\n",
       "      <td>27.0</td>\n",
       "      <td>70.32</td>\n",
       "      <td>29.68</td>\n",
       "      <td>58.76</td>\n",
       "    </tr>\n",
       "    <tr>\n",
       "      <th>3</th>\n",
       "      <td>HarvardX</td>\n",
       "      <td>CS50x</td>\n",
       "      <td>10/15/2012</td>\n",
       "      <td>Introduction to Computer Science</td>\n",
       "      <td>David Malan, Nate Hardison, Rob Bowden, Tommy ...</td>\n",
       "      <td>Computer Science</td>\n",
       "      <td>1</td>\n",
       "      <td>1</td>\n",
       "      <td>129400</td>\n",
       "      <td>12888</td>\n",
       "      <td>...</td>\n",
       "      <td>11.11</td>\n",
       "      <td>0</td>\n",
       "      <td>0.00</td>\n",
       "      <td>1.11</td>\n",
       "      <td>220.90</td>\n",
       "      <td>0.00</td>\n",
       "      <td>28.0</td>\n",
       "      <td>80.02</td>\n",
       "      <td>19.98</td>\n",
       "      <td>58.78</td>\n",
       "    </tr>\n",
       "    <tr>\n",
       "      <th>4</th>\n",
       "      <td>HarvardX</td>\n",
       "      <td>PH207x</td>\n",
       "      <td>10/15/2012</td>\n",
       "      <td>Health in Numbers: Quantitative Methods in Cli...</td>\n",
       "      <td>Earl Francis Cook, Marcello Pagano</td>\n",
       "      <td>Government, Health, and Social Science</td>\n",
       "      <td>1</td>\n",
       "      <td>1</td>\n",
       "      <td>52521</td>\n",
       "      <td>10729</td>\n",
       "      <td>...</td>\n",
       "      <td>47.12</td>\n",
       "      <td>77.45</td>\n",
       "      <td>15.98</td>\n",
       "      <td>32.52</td>\n",
       "      <td>804.41</td>\n",
       "      <td>76.10</td>\n",
       "      <td>32.0</td>\n",
       "      <td>56.78</td>\n",
       "      <td>43.22</td>\n",
       "      <td>88.33</td>\n",
       "    </tr>\n",
       "  </tbody>\n",
       "</table>\n",
       "<p>5 rows × 23 columns</p>\n",
       "</div>"
      ],
      "text/plain": [
       "  Institution Course Number Launch Date  \\\n",
       "0        MITx        6.002x  09/05/2012   \n",
       "1        MITx         6.00x  09/26/2012   \n",
       "2        MITx        3.091x  10/09/2012   \n",
       "3    HarvardX         CS50x  10/15/2012   \n",
       "4    HarvardX        PH207x  10/15/2012   \n",
       "\n",
       "                                        Course Title  \\\n",
       "0                           Circuits and Electronics   \n",
       "1   Introduction to Computer Science and Programming   \n",
       "2              Introduction to Solid State Chemistry   \n",
       "3                   Introduction to Computer Science   \n",
       "4  Health in Numbers: Quantitative Methods in Cli...   \n",
       "\n",
       "                                         Instructors  \\\n",
       "0                                     Khurram Afridi   \n",
       "1            Eric Grimson, John Guttag, Chris Terman   \n",
       "2                                       Michael Cima   \n",
       "3  David Malan, Nate Hardison, Rob Bowden, Tommy ...   \n",
       "4                 Earl Francis Cook, Marcello Pagano   \n",
       "\n",
       "                                      Course Subject  Year  \\\n",
       "0  Science, Technology, Engineering, and Mathematics     1   \n",
       "1                                   Computer Science     1   \n",
       "2  Science, Technology, Engineering, and Mathematics     1   \n",
       "3                                   Computer Science     1   \n",
       "4             Government, Health, and Social Science     1   \n",
       "\n",
       "   Honor Code Certificates  Participants (Course Content Accessed)  \\\n",
       "0                        1                                   36105   \n",
       "1                        1                                   62709   \n",
       "2                        1                                   16663   \n",
       "3                        1                                  129400   \n",
       "4                        1                                   52521   \n",
       "\n",
       "   Audited (> 50% Course Content Accessed)  ...  \\\n",
       "0                                     5431  ...   \n",
       "1                                     8949  ...   \n",
       "2                                     2855  ...   \n",
       "3                                    12888  ...   \n",
       "4                                    10729  ...   \n",
       "\n",
       "   % Certified of > 50% Course Content Accessed  % Played Video  \\\n",
       "0                                         54.98            83.2   \n",
       "1                                         64.05           89.14   \n",
       "2                                         72.85           87.49   \n",
       "3                                         11.11               0   \n",
       "4                                         47.12           77.45   \n",
       "\n",
       "   % Posted in Forum  % Grade Higher Than Zero Total Course Hours (Thousands)  \\\n",
       "0               8.17                     28.97                         418.94   \n",
       "1              14.38                     39.50                         884.04   \n",
       "2              14.42                     34.89                         227.55   \n",
       "3               0.00                      1.11                         220.90   \n",
       "4              15.98                     32.52                         804.41   \n",
       "\n",
       "   Median Hours for Certification  Median Age  % Male  % Female  \\\n",
       "0                           64.45        26.0   88.28     11.72   \n",
       "1                           78.53        28.0   83.50     16.50   \n",
       "2                           61.28        27.0   70.32     29.68   \n",
       "3                            0.00        28.0   80.02     19.98   \n",
       "4                           76.10        32.0   56.78     43.22   \n",
       "\n",
       "   % Bachelor's Degree or Higher  \n",
       "0                          60.68  \n",
       "1                          63.04  \n",
       "2                          58.76  \n",
       "3                          58.78  \n",
       "4                          88.33  \n",
       "\n",
       "[5 rows x 23 columns]"
      ]
     },
     "execution_count": 2,
     "metadata": {},
     "output_type": "execute_result"
    }
   ],
   "source": [
    "# Load data and output first five rows\n",
    "df = pd.read_csv(\"../Datasets/courses.csv\")\n",
    "df.head()"
   ]
  },
  {
   "cell_type": "markdown",
   "id": "f9e9ec04-1150-4398-80f4-88bae24b6074",
   "metadata": {},
   "source": [
    "# Data Cleaning #"
   ]
  },
  {
   "cell_type": "code",
   "execution_count": 3,
   "id": "fa46bb3f-3159-49c1-a8a0-b831bedca39a",
   "metadata": {},
   "outputs": [
    {
     "data": {
      "text/plain": [
       "(290, 23)"
      ]
     },
     "execution_count": 3,
     "metadata": {},
     "output_type": "execute_result"
    }
   ],
   "source": [
    "# Preserve data integrity by creating a copy before modifying it\n",
    "#  and keep track of the shape of the dataframe\n",
    "df_original = df.copy(deep = True)\n",
    "df.shape"
   ]
  },
  {
   "cell_type": "code",
   "execution_count": 4,
   "id": "c03cae57-33a9-4ba7-96a9-3cbc926107f4",
   "metadata": {},
   "outputs": [],
   "source": [
    "df.drop([\"Honor Code Certificates\",\"% Certified of > 50% Course Content Accessed\", \"Total Course Hours (Thousands)\"], axis = 1, inplace=True)"
   ]
  },
  {
   "cell_type": "code",
   "execution_count": 5,
   "id": "98870e30-f4d4-40e5-9437-cf49015a36d9",
   "metadata": {},
   "outputs": [
    {
     "data": {
      "text/plain": [
       "(290, 20)"
      ]
     },
     "execution_count": 5,
     "metadata": {},
     "output_type": "execute_result"
    }
   ],
   "source": [
    "df.shape"
   ]
  },
  {
   "cell_type": "markdown",
   "id": "4d4561f0-2886-4100-aceb-6f89f0172ce5",
   "metadata": {},
   "source": [
    "### *Remove non-float value on account of error thrown* ###\n",
    "The error itself is not visible in the current file but became evident as part of my preliminary analysis. This instance is the only anomaly in the entire dataset."
   ]
  },
  {
   "cell_type": "code",
   "execution_count": 6,
   "id": "2a097819-41eb-4ceb-b9bf-7098eb2e857a",
   "metadata": {},
   "outputs": [
    {
     "data": {
      "text/html": [
       "<div>\n",
       "<style scoped>\n",
       "    .dataframe tbody tr th:only-of-type {\n",
       "        vertical-align: middle;\n",
       "    }\n",
       "\n",
       "    .dataframe tbody tr th {\n",
       "        vertical-align: top;\n",
       "    }\n",
       "\n",
       "    .dataframe thead th {\n",
       "        text-align: right;\n",
       "    }\n",
       "</style>\n",
       "<table border=\"1\" class=\"dataframe\">\n",
       "  <thead>\n",
       "    <tr style=\"text-align: right;\">\n",
       "      <th></th>\n",
       "      <th>Institution</th>\n",
       "      <th>Course Number</th>\n",
       "      <th>Launch Date</th>\n",
       "      <th>Course Title</th>\n",
       "      <th>Instructors</th>\n",
       "      <th>Course Subject</th>\n",
       "      <th>Year</th>\n",
       "      <th>Participants (Course Content Accessed)</th>\n",
       "      <th>Audited (&gt; 50% Course Content Accessed)</th>\n",
       "      <th>Certified</th>\n",
       "      <th>% Audited</th>\n",
       "      <th>% Certified</th>\n",
       "      <th>% Played Video</th>\n",
       "      <th>% Posted in Forum</th>\n",
       "      <th>% Grade Higher Than Zero</th>\n",
       "      <th>Median Hours for Certification</th>\n",
       "      <th>Median Age</th>\n",
       "      <th>% Male</th>\n",
       "      <th>% Female</th>\n",
       "      <th>% Bachelor's Degree or Higher</th>\n",
       "    </tr>\n",
       "  </thead>\n",
       "  <tbody>\n",
       "    <tr>\n",
       "      <th>9</th>\n",
       "      <td>HarvardX</td>\n",
       "      <td>ER22x</td>\n",
       "      <td>03/02/2013</td>\n",
       "      <td>Justice</td>\n",
       "      <td>Michael Sandel</td>\n",
       "      <td>Humanities, History, Design, Religion, and Edu...</td>\n",
       "      <td>1</td>\n",
       "      <td>58779</td>\n",
       "      <td>9425</td>\n",
       "      <td>5438</td>\n",
       "      <td>16.05</td>\n",
       "      <td>9.26</td>\n",
       "      <td>---</td>\n",
       "      <td>21.86</td>\n",
       "      <td>20.98</td>\n",
       "      <td>13.67</td>\n",
       "      <td>30.0</td>\n",
       "      <td>60.42</td>\n",
       "      <td>39.58</td>\n",
       "      <td>69.78</td>\n",
       "    </tr>\n",
       "  </tbody>\n",
       "</table>\n",
       "</div>"
      ],
      "text/plain": [
       "  Institution Course Number Launch Date Course Title     Instructors  \\\n",
       "9    HarvardX         ER22x  03/02/2013      Justice  Michael Sandel   \n",
       "\n",
       "                                      Course Subject  Year  \\\n",
       "9  Humanities, History, Design, Religion, and Edu...     1   \n",
       "\n",
       "   Participants (Course Content Accessed)  \\\n",
       "9                                   58779   \n",
       "\n",
       "   Audited (> 50% Course Content Accessed)  Certified  % Audited  % Certified  \\\n",
       "9                                     9425       5438      16.05         9.26   \n",
       "\n",
       "  % Played Video  % Posted in Forum  % Grade Higher Than Zero  \\\n",
       "9            ---              21.86                     20.98   \n",
       "\n",
       "   Median Hours for Certification  Median Age  % Male  % Female  \\\n",
       "9                           13.67        30.0   60.42     39.58   \n",
       "\n",
       "   % Bachelor's Degree or Higher  \n",
       "9                          69.78  "
      ]
     },
     "execution_count": 6,
     "metadata": {},
     "output_type": "execute_result"
    }
   ],
   "source": [
    "# Find non-float value based on error thrown ('---')\n",
    "df[df[\"% Played Video\"] == '---']"
   ]
  },
  {
   "cell_type": "code",
   "execution_count": 7,
   "id": "d94be660-1bc3-4b10-bf8f-39a3a93d99b8",
   "metadata": {},
   "outputs": [],
   "source": [
    "# Remove non-float value\n",
    "df.at[9, \"% Played Video\"] = 0."
   ]
  },
  {
   "cell_type": "code",
   "execution_count": 8,
   "id": "82183f12-1380-41ce-a6ac-0a14aef88293",
   "metadata": {
    "tags": []
   },
   "outputs": [],
   "source": [
    "# Check column types\n",
    "# df.astype({\"% Played Video\":\"float64\"}).dtypes"
   ]
  },
  {
   "cell_type": "code",
   "execution_count": 9,
   "id": "7caaa726-962b-4a8b-b41f-7a8ad8ee48f1",
   "metadata": {},
   "outputs": [],
   "source": [
    "# Recast \"% Played Video\" column as float to ensure consistency in processing\n",
    "df[\"% Played Video\"] = [float(val) for val in df[\"% Played Video\"]]"
   ]
  },
  {
   "cell_type": "markdown",
   "id": "81193144-b693-44b8-aef8-9d41338c82f7",
   "metadata": {},
   "source": [
    "### *Check for duplicate course entries and for null instructor values values* ###\n",
    "**N.B.** In this section I am primarily trying to find the number of unique courses in the dataset based on course codes."
   ]
  },
  {
   "cell_type": "code",
   "execution_count": 10,
   "id": "b6d78135-e055-4414-b4a0-e22034a0407f",
   "metadata": {},
   "outputs": [
    {
     "data": {
      "text/plain": [
       "(290, 20)"
      ]
     },
     "execution_count": 10,
     "metadata": {},
     "output_type": "execute_result"
    }
   ],
   "source": [
    "# Continue tracking shape of the dataframe\n",
    "df.shape"
   ]
  },
  {
   "cell_type": "code",
   "execution_count": 11,
   "id": "5d776852-3038-4ff4-ad82-6d8d91195bdd",
   "metadata": {},
   "outputs": [
    {
     "data": {
      "text/plain": [
       "188"
      ]
     },
     "execution_count": 11,
     "metadata": {},
     "output_type": "execute_result"
    }
   ],
   "source": [
    "# Check the number of unique courses\n",
    "len(set(df[\"Course Number\"]))"
   ]
  },
  {
   "cell_type": "code",
   "execution_count": 12,
   "id": "dafa548c-0155-41e8-b6d2-28a935545e2b",
   "metadata": {},
   "outputs": [
    {
     "data": {
      "text/html": [
       "<div>\n",
       "<style scoped>\n",
       "    .dataframe tbody tr th:only-of-type {\n",
       "        vertical-align: middle;\n",
       "    }\n",
       "\n",
       "    .dataframe tbody tr th {\n",
       "        vertical-align: top;\n",
       "    }\n",
       "\n",
       "    .dataframe thead th {\n",
       "        text-align: right;\n",
       "    }\n",
       "</style>\n",
       "<table border=\"1\" class=\"dataframe\">\n",
       "  <thead>\n",
       "    <tr style=\"text-align: right;\">\n",
       "      <th></th>\n",
       "      <th>Institution</th>\n",
       "      <th>Course Number</th>\n",
       "      <th>Launch Date</th>\n",
       "      <th>Course Title</th>\n",
       "      <th>Instructors</th>\n",
       "      <th>Course Subject</th>\n",
       "      <th>Year</th>\n",
       "      <th>Participants (Course Content Accessed)</th>\n",
       "      <th>Audited (&gt; 50% Course Content Accessed)</th>\n",
       "      <th>Certified</th>\n",
       "      <th>% Audited</th>\n",
       "      <th>% Certified</th>\n",
       "      <th>% Played Video</th>\n",
       "      <th>% Posted in Forum</th>\n",
       "      <th>% Grade Higher Than Zero</th>\n",
       "      <th>Median Hours for Certification</th>\n",
       "      <th>Median Age</th>\n",
       "      <th>% Male</th>\n",
       "      <th>% Female</th>\n",
       "      <th>% Bachelor's Degree or Higher</th>\n",
       "    </tr>\n",
       "  </thead>\n",
       "  <tbody>\n",
       "    <tr>\n",
       "      <th>221</th>\n",
       "      <td>HarvardX</td>\n",
       "      <td>CS50x</td>\n",
       "      <td>01/01/2016</td>\n",
       "      <td>Introduction to Computer Science (2016)</td>\n",
       "      <td>NaN</td>\n",
       "      <td>Computer Science</td>\n",
       "      <td>4</td>\n",
       "      <td>168335</td>\n",
       "      <td>10245</td>\n",
       "      <td>417</td>\n",
       "      <td>6.09</td>\n",
       "      <td>0.25</td>\n",
       "      <td>69.02</td>\n",
       "      <td>0.0</td>\n",
       "      <td>0.0</td>\n",
       "      <td>0.0</td>\n",
       "      <td>23.0</td>\n",
       "      <td>77.44</td>\n",
       "      <td>22.56</td>\n",
       "      <td>49.51</td>\n",
       "    </tr>\n",
       "  </tbody>\n",
       "</table>\n",
       "</div>"
      ],
      "text/plain": [
       "    Institution Course Number Launch Date  \\\n",
       "221    HarvardX         CS50x  01/01/2016   \n",
       "\n",
       "                                Course Title Instructors    Course Subject  \\\n",
       "221  Introduction to Computer Science (2016)         NaN  Computer Science   \n",
       "\n",
       "     Year  Participants (Course Content Accessed)  \\\n",
       "221     4                                  168335   \n",
       "\n",
       "     Audited (> 50% Course Content Accessed)  Certified  % Audited  \\\n",
       "221                                    10245        417       6.09   \n",
       "\n",
       "     % Certified  % Played Video  % Posted in Forum  % Grade Higher Than Zero  \\\n",
       "221         0.25           69.02                0.0                       0.0   \n",
       "\n",
       "     Median Hours for Certification  Median Age  % Male  % Female  \\\n",
       "221                             0.0        23.0   77.44     22.56   \n",
       "\n",
       "     % Bachelor's Degree or Higher  \n",
       "221                          49.51  "
      ]
     },
     "execution_count": 12,
     "metadata": {},
     "output_type": "execute_result"
    }
   ],
   "source": [
    "df[df[\"Instructors\"].isnull()]"
   ]
  },
  {
   "cell_type": "markdown",
   "id": "ff0a857c-1a9b-4843-8c60-b6716ae766b2",
   "metadata": {},
   "source": [
    "### *Handle NaN value in Instructors' list* ###"
   ]
  },
  {
   "cell_type": "code",
   "execution_count": 13,
   "id": "0afbc14f-23cf-467d-b0d0-8d1934bfadf2",
   "metadata": {},
   "outputs": [],
   "source": [
    "df.at[221, \"Instructors\"] = \"\""
   ]
  },
  {
   "cell_type": "markdown",
   "id": "0343bcc8-08b4-4712-a9b7-5afdfc3976bb",
   "metadata": {},
   "source": [
    "# Feature Engineering #"
   ]
  },
  {
   "cell_type": "markdown",
   "id": "3c2958c5-c914-4e6b-9593-8e42fbc599cd",
   "metadata": {},
   "source": [
    "### *Combine records that have the same course code.* ###\n",
    "\n",
    "Combined records contain:\n",
    "\n",
    "* A consolidated list of instructors\n",
    "* A combined list of participants and combined certified number\n",
    "* An averaging of percentage-based statistics (such as percentage of interactions with course materials or percetage of completions, as well as demographic-based percentages)\n",
    "\n",
    "Course launch dates are taken from the first record and the year count from the last one.\n"
   ]
  },
  {
   "cell_type": "code",
   "execution_count": 14,
   "id": "dcc09976-e9fb-4342-a037-3a8222efbeb7",
   "metadata": {
    "tags": []
   },
   "outputs": [
    {
     "data": {
      "text/plain": [
       "6.00.1x       9\n",
       "3.091x        7\n",
       "6.002x        5\n",
       "6.00.2x       5\n",
       "14.73x        4\n",
       "             ..\n",
       "8.421.4x      1\n",
       "HUM1.4x       1\n",
       "GOV1368.3x    1\n",
       "HDS3221.2x    1\n",
       "AMPOx.3       1\n",
       "Name: Course Number, Length: 188, dtype: int64"
      ]
     },
     "execution_count": 14,
     "metadata": {},
     "output_type": "execute_result"
    }
   ],
   "source": [
    "# Compute the number of instances of each course\n",
    "course_occurences = df[\"Course Number\"].value_counts()\n",
    "course_occurences"
   ]
  },
  {
   "cell_type": "code",
   "execution_count": 15,
   "id": "878cd256-5bf8-4c26-97be-8317947e06bd",
   "metadata": {},
   "outputs": [],
   "source": [
    "# Define function to combine duplicate records\n",
    "\n",
    "# test_course = \"6.00.1x\"\n",
    "\n",
    "def combine_course_instances(course, df=df):\n",
    "    '''\n",
    "        Combines multiple instances of the same course preserving original launch dates, combini\n",
    "        the list of all instructors, and either summing or averaging course statistics, as appropriate.\n",
    "        \n",
    "        Inputs:\n",
    "            - course: course code attached to multiple entries\n",
    "            - df: dataframe in which the course exists\n",
    "    \n",
    "    '''\n",
    "    instances = df[df[\"Course Number\"]==course]\n",
    "    #print( instances[\"Instructors\"])\n",
    "#     print(instances)\n",
    "    \n",
    "    # Keep first record of launch date and course title\n",
    "    institution = list(instances[\"Institution\"])[0]\n",
    "    course_title = list(instances[\"Course Title\"])[0]\n",
    "    launch_date = list(instances[\"Launch Date\"])[0]\n",
    "    \n",
    "    row = instances.groupby(\"Course Number\").agg({\n",
    "                                            \"Institution\": lambda x: institution,\n",
    "                                            \"Course Number\": lambda x: course,\n",
    "                                            \"Launch Date\": lambda x: launch_date,\n",
    "                                            \"Course Title\": lambda x: course_title,\n",
    "                                            \"Instructors\": lambda x: get_instructors(instances[\"Instructors\"]),\n",
    "                                            \"Course Subject\": lambda x :list(instances[\"Course Subject\"])[0],\n",
    "                                            \"Year\":\"max\",\n",
    "                                            \"Participants (Course Content Accessed)\": \"sum\",\n",
    "                                            \"Certified\": \"sum\",\n",
    "                                            \"Audited (> 50% Course Content Accessed)\": \"mean\",\n",
    "                                            \"Certified\": \"sum\",\n",
    "                                            \"% Audited\": \"mean\",\n",
    "                                            \"% Certified\": \"mean\",\n",
    "                                            \"% Played Video\": \"mean\",\n",
    "                                            \"% Posted in Forum\": \"mean\",\n",
    "                                            \"% Grade Higher Than Zero\": \"mean\",\n",
    "                                            \"Median Hours for Certification\": \"mean\",\n",
    "                                            \"Median Age\": \"mean\",\n",
    "                                            \"% Male\": \"mean\",\n",
    "                                            \"% Female\": \"mean\",\n",
    "                                            \"% Bachelor's Degree or Higher\": \"mean\"\n",
    "    })\n",
    "#     print(row)\n",
    "    return row\n",
    "\n",
    "def get_instructors(combined_instructors):\n",
    "    \n",
    "    '''\n",
    "        Converts a list of all instructor records into a list of individually separated,\n",
    "        unique instructor names.\n",
    "        \n",
    "        Input:\n",
    "            - combined_instructors: list containing combined instructor names for one or more\n",
    "                                    instances of a course\n",
    "        \n",
    "        Output:\n",
    "            - instructors_list: list of unique instructor names across all instances of a course\n",
    "    '''\n",
    "    \n",
    "    # Define empty list to store individual instructors\n",
    "    instructors_list = []\n",
    "    \n",
    "    # Build complete list of instructors\n",
    "    for cluster in combined_instructors:\n",
    "        # Store instructors temporarily\n",
    "        temp_list = cluster.split(',')\n",
    "        \n",
    "        # Remove possible spaces at the beginning and\n",
    "        #    add to list if name not already included\n",
    "        for instructor in temp_list:\n",
    "            inst = re.sub(r\"(^\\s?)\", \"\", instructor)    # remove leading space\n",
    "            # Append value only if it does not already exist\n",
    "            if inst not in instructors_list:\n",
    "                instructors_list.append(inst)\n",
    "                \n",
    "#     print(full_list)\n",
    "    return instructors_list"
   ]
  },
  {
   "cell_type": "markdown",
   "id": "7c2fa6f2-865f-42d4-9aba-b1e396afd77e",
   "metadata": {},
   "source": [
    "### *Designate Duplicate Courses and Consolidate Records* ###\n",
    "This process involves: \n",
    "1) splitting unique and duplicate courses in the dataframe \n",
    "2) consolidating duplicated records\n",
    "3) adding the consolidated records to a finalized version of the dataframe"
   ]
  },
  {
   "cell_type": "code",
   "execution_count": 16,
   "id": "88908379-b21c-4dc5-8d2b-e0ee3819d8d0",
   "metadata": {
    "tags": []
   },
   "outputs": [
    {
     "data": {
      "text/plain": [
       "66"
      ]
     },
     "execution_count": 16,
     "metadata": {},
     "output_type": "execute_result"
    }
   ],
   "source": [
    "# Create a list of duplicate courses\n",
    "duplicate_courses = [course for course in course_occurences.keys() if course_occurences[course] > 1]\n",
    "\n",
    "# Check the size of the list in comparison with previous tally\n",
    "len(duplicate_courses)"
   ]
  },
  {
   "cell_type": "code",
   "execution_count": 17,
   "id": "b1aabfce-845a-4bf7-84d4-d5fe2d856b39",
   "metadata": {},
   "outputs": [
    {
     "data": {
      "text/html": [
       "<div>\n",
       "<style scoped>\n",
       "    .dataframe tbody tr th:only-of-type {\n",
       "        vertical-align: middle;\n",
       "    }\n",
       "\n",
       "    .dataframe tbody tr th {\n",
       "        vertical-align: top;\n",
       "    }\n",
       "\n",
       "    .dataframe thead th {\n",
       "        text-align: right;\n",
       "    }\n",
       "</style>\n",
       "<table border=\"1\" class=\"dataframe\">\n",
       "  <thead>\n",
       "    <tr style=\"text-align: right;\">\n",
       "      <th></th>\n",
       "      <th>Institution</th>\n",
       "      <th>Course Number</th>\n",
       "      <th>Launch Date</th>\n",
       "      <th>Course Title</th>\n",
       "      <th>Instructors</th>\n",
       "      <th>Course Subject</th>\n",
       "      <th>Year</th>\n",
       "      <th>Participants (Course Content Accessed)</th>\n",
       "      <th>Audited (&gt; 50% Course Content Accessed)</th>\n",
       "      <th>Certified</th>\n",
       "      <th>% Audited</th>\n",
       "      <th>% Certified</th>\n",
       "      <th>% Played Video</th>\n",
       "      <th>% Posted in Forum</th>\n",
       "      <th>% Grade Higher Than Zero</th>\n",
       "      <th>Median Hours for Certification</th>\n",
       "      <th>Median Age</th>\n",
       "      <th>% Male</th>\n",
       "      <th>% Female</th>\n",
       "      <th>% Bachelor's Degree or Higher</th>\n",
       "    </tr>\n",
       "  </thead>\n",
       "  <tbody>\n",
       "  </tbody>\n",
       "</table>\n",
       "</div>"
      ],
      "text/plain": [
       "Empty DataFrame\n",
       "Columns: [Institution, Course Number, Launch Date, Course Title, Instructors, Course Subject, Year, Participants (Course Content Accessed), Audited (> 50% Course Content Accessed), Certified, % Audited, % Certified, % Played Video, % Posted in Forum, % Grade Higher Than Zero, Median Hours for Certification, Median Age, % Male, % Female, % Bachelor's Degree or Higher]\n",
       "Index: []"
      ]
     },
     "execution_count": 17,
     "metadata": {},
     "output_type": "execute_result"
    }
   ],
   "source": [
    "# Create an empty dataframe with the appropriate columns that will be used to recombine records\n",
    "final_df = pd.DataFrame(columns=df.columns)\n",
    "final_df"
   ]
  },
  {
   "cell_type": "code",
   "execution_count": 18,
   "id": "1fa651aa-b714-4446-8ab5-b09a3863b5cd",
   "metadata": {},
   "outputs": [],
   "source": [
    "# Traverse list of duplicate courses, combine records, and add row to the dataframe\n",
    "for course in duplicate_courses:\n",
    "    new_row = combine_course_instances(course)                      # combine records\n",
    "    final_df = pd.concat([final_df, new_row], ignore_index=True)    # add combined record to the dataframe"
   ]
  },
  {
   "cell_type": "code",
   "execution_count": 19,
   "id": "8782f745-9180-4fc5-9ff0-eac7e9250efc",
   "metadata": {},
   "outputs": [
    {
     "data": {
      "text/plain": [
       "(66, 20)"
      ]
     },
     "execution_count": 19,
     "metadata": {},
     "output_type": "execute_result"
    }
   ],
   "source": [
    "# Verify shape of dataframe after records have been added\n",
    "final_df.shape"
   ]
  },
  {
   "cell_type": "code",
   "execution_count": 20,
   "id": "b6ccab01-1bf2-47ea-83ba-9b0ee353b692",
   "metadata": {},
   "outputs": [
    {
     "data": {
      "text/html": [
       "<div>\n",
       "<style scoped>\n",
       "    .dataframe tbody tr th:only-of-type {\n",
       "        vertical-align: middle;\n",
       "    }\n",
       "\n",
       "    .dataframe tbody tr th {\n",
       "        vertical-align: top;\n",
       "    }\n",
       "\n",
       "    .dataframe thead th {\n",
       "        text-align: right;\n",
       "    }\n",
       "</style>\n",
       "<table border=\"1\" class=\"dataframe\">\n",
       "  <thead>\n",
       "    <tr style=\"text-align: right;\">\n",
       "      <th></th>\n",
       "      <th>Institution</th>\n",
       "      <th>Course Number</th>\n",
       "      <th>Launch Date</th>\n",
       "      <th>Course Title</th>\n",
       "      <th>Instructors</th>\n",
       "      <th>Course Subject</th>\n",
       "      <th>Year</th>\n",
       "      <th>Participants (Course Content Accessed)</th>\n",
       "      <th>Audited (&gt; 50% Course Content Accessed)</th>\n",
       "      <th>Certified</th>\n",
       "      <th>% Audited</th>\n",
       "      <th>% Certified</th>\n",
       "      <th>% Played Video</th>\n",
       "      <th>% Posted in Forum</th>\n",
       "      <th>% Grade Higher Than Zero</th>\n",
       "      <th>Median Hours for Certification</th>\n",
       "      <th>Median Age</th>\n",
       "      <th>% Male</th>\n",
       "      <th>% Female</th>\n",
       "      <th>% Bachelor's Degree or Higher</th>\n",
       "    </tr>\n",
       "  </thead>\n",
       "  <tbody>\n",
       "    <tr>\n",
       "      <th>0</th>\n",
       "      <td>MITx</td>\n",
       "      <td>6.00.1x</td>\n",
       "      <td>10/16/2013</td>\n",
       "      <td>Introduction to Computer Science and Programming</td>\n",
       "      <td>[Eric Grimson, John Guttag, Ana Bell]</td>\n",
       "      <td>Computer Science</td>\n",
       "      <td>4</td>\n",
       "      <td>364099</td>\n",
       "      <td>6584.666667</td>\n",
       "      <td>29412</td>\n",
       "      <td>17.018889</td>\n",
       "      <td>8.252222</td>\n",
       "      <td>72.924444</td>\n",
       "      <td>8.640000</td>\n",
       "      <td>44.654444</td>\n",
       "      <td>60.734444</td>\n",
       "      <td>26.333333</td>\n",
       "      <td>81.753333</td>\n",
       "      <td>18.246667</td>\n",
       "      <td>63.575556</td>\n",
       "    </tr>\n",
       "    <tr>\n",
       "      <th>1</th>\n",
       "      <td>MITx</td>\n",
       "      <td>3.091x</td>\n",
       "      <td>10/09/2012</td>\n",
       "      <td>Introduction to Solid State Chemistry</td>\n",
       "      <td>[Michael Cima]</td>\n",
       "      <td>Science, Technology, Engineering, and Mathematics</td>\n",
       "      <td>4</td>\n",
       "      <td>56421</td>\n",
       "      <td>847.000000</td>\n",
       "      <td>3608</td>\n",
       "      <td>8.805714</td>\n",
       "      <td>4.840000</td>\n",
       "      <td>73.691429</td>\n",
       "      <td>8.097143</td>\n",
       "      <td>22.082857</td>\n",
       "      <td>95.955714</td>\n",
       "      <td>26.142857</td>\n",
       "      <td>74.007143</td>\n",
       "      <td>25.992857</td>\n",
       "      <td>58.424286</td>\n",
       "    </tr>\n",
       "    <tr>\n",
       "      <th>2</th>\n",
       "      <td>MITx</td>\n",
       "      <td>6.002x</td>\n",
       "      <td>09/05/2012</td>\n",
       "      <td>Circuits and Electronics</td>\n",
       "      <td>[Khurram Afridi, Tania Khanna, Anant Agarwal, ...</td>\n",
       "      <td>Science, Technology, Engineering, and Mathematics</td>\n",
       "      <td>3</td>\n",
       "      <td>116335</td>\n",
       "      <td>2131.000000</td>\n",
       "      <td>5169</td>\n",
       "      <td>8.432000</td>\n",
       "      <td>4.010000</td>\n",
       "      <td>71.438000</td>\n",
       "      <td>4.884000</td>\n",
       "      <td>16.932000</td>\n",
       "      <td>82.980000</td>\n",
       "      <td>25.200000</td>\n",
       "      <td>88.522000</td>\n",
       "      <td>11.478000</td>\n",
       "      <td>57.666000</td>\n",
       "    </tr>\n",
       "    <tr>\n",
       "      <th>3</th>\n",
       "      <td>MITx</td>\n",
       "      <td>6.00.2x</td>\n",
       "      <td>03/05/2014</td>\n",
       "      <td>Introduction to Computational Thinking and Dat...</td>\n",
       "      <td>[Eric Grimson, John Guttag, Ana Bell]</td>\n",
       "      <td>Computer Science</td>\n",
       "      <td>4</td>\n",
       "      <td>66102</td>\n",
       "      <td>2372.400000</td>\n",
       "      <td>6446</td>\n",
       "      <td>18.022000</td>\n",
       "      <td>9.842000</td>\n",
       "      <td>69.172000</td>\n",
       "      <td>6.984000</td>\n",
       "      <td>30.702000</td>\n",
       "      <td>56.604000</td>\n",
       "      <td>28.000000</td>\n",
       "      <td>86.250000</td>\n",
       "      <td>13.750000</td>\n",
       "      <td>74.190000</td>\n",
       "    </tr>\n",
       "    <tr>\n",
       "      <th>4</th>\n",
       "      <td>MITx</td>\n",
       "      <td>14.73x</td>\n",
       "      <td>02/12/2013</td>\n",
       "      <td>The Challenges of Global Poverty</td>\n",
       "      <td>[Esther Duflo, Abhijit Banerjee, Duflo, Banerj...</td>\n",
       "      <td>Government, Health, and Social Science</td>\n",
       "      <td>4</td>\n",
       "      <td>52060</td>\n",
       "      <td>2434.250000</td>\n",
       "      <td>6670</td>\n",
       "      <td>15.580000</td>\n",
       "      <td>10.285000</td>\n",
       "      <td>71.565000</td>\n",
       "      <td>9.397500</td>\n",
       "      <td>31.895000</td>\n",
       "      <td>57.370000</td>\n",
       "      <td>28.500000</td>\n",
       "      <td>52.722500</td>\n",
       "      <td>47.277500</td>\n",
       "      <td>79.430000</td>\n",
       "    </tr>\n",
       "    <tr>\n",
       "      <th>...</th>\n",
       "      <td>...</td>\n",
       "      <td>...</td>\n",
       "      <td>...</td>\n",
       "      <td>...</td>\n",
       "      <td>...</td>\n",
       "      <td>...</td>\n",
       "      <td>...</td>\n",
       "      <td>...</td>\n",
       "      <td>...</td>\n",
       "      <td>...</td>\n",
       "      <td>...</td>\n",
       "      <td>...</td>\n",
       "      <td>...</td>\n",
       "      <td>...</td>\n",
       "      <td>...</td>\n",
       "      <td>...</td>\n",
       "      <td>...</td>\n",
       "      <td>...</td>\n",
       "      <td>...</td>\n",
       "      <td>...</td>\n",
       "    </tr>\n",
       "    <tr>\n",
       "      <th>61</th>\n",
       "      <td>MITx</td>\n",
       "      <td>JPAL101x</td>\n",
       "      <td>10/05/2015</td>\n",
       "      <td>Evaluating Social Programs</td>\n",
       "      <td>[Rachel Glennerster, Marc Shotland]</td>\n",
       "      <td>Government, Health, and Social Science</td>\n",
       "      <td>4</td>\n",
       "      <td>8317</td>\n",
       "      <td>752.500000</td>\n",
       "      <td>356</td>\n",
       "      <td>18.110000</td>\n",
       "      <td>4.280000</td>\n",
       "      <td>57.575000</td>\n",
       "      <td>6.305000</td>\n",
       "      <td>24.470000</td>\n",
       "      <td>42.920000</td>\n",
       "      <td>30.000000</td>\n",
       "      <td>50.130000</td>\n",
       "      <td>49.870000</td>\n",
       "      <td>89.620000</td>\n",
       "    </tr>\n",
       "    <tr>\n",
       "      <th>62</th>\n",
       "      <td>MITx</td>\n",
       "      <td>CTL.SC1x</td>\n",
       "      <td>05/27/2015</td>\n",
       "      <td>Supply Chain and Logistics Fundamentals</td>\n",
       "      <td>[Chris Caplice]</td>\n",
       "      <td>Government, Health, and Social Science</td>\n",
       "      <td>4</td>\n",
       "      <td>38682</td>\n",
       "      <td>4162.500000</td>\n",
       "      <td>3863</td>\n",
       "      <td>21.665000</td>\n",
       "      <td>10.090000</td>\n",
       "      <td>75.015000</td>\n",
       "      <td>18.235000</td>\n",
       "      <td>27.060000</td>\n",
       "      <td>144.525000</td>\n",
       "      <td>29.000000</td>\n",
       "      <td>76.590000</td>\n",
       "      <td>23.410000</td>\n",
       "      <td>82.675000</td>\n",
       "    </tr>\n",
       "    <tr>\n",
       "      <th>63</th>\n",
       "      <td>HarvardX</td>\n",
       "      <td>USW30x</td>\n",
       "      <td>06/02/2014</td>\n",
       "      <td>Tangible Things</td>\n",
       "      <td>[Laurel Ulrich]</td>\n",
       "      <td>Humanities, History, Design, Religion, and Edu...</td>\n",
       "      <td>3</td>\n",
       "      <td>15531</td>\n",
       "      <td>1723.500000</td>\n",
       "      <td>1443</td>\n",
       "      <td>21.245000</td>\n",
       "      <td>8.765000</td>\n",
       "      <td>70.635000</td>\n",
       "      <td>25.675000</td>\n",
       "      <td>29.380000</td>\n",
       "      <td>9.190000</td>\n",
       "      <td>33.000000</td>\n",
       "      <td>35.845000</td>\n",
       "      <td>64.155000</td>\n",
       "      <td>75.100000</td>\n",
       "    </tr>\n",
       "    <tr>\n",
       "      <th>64</th>\n",
       "      <td>MITx</td>\n",
       "      <td>CTL.SC2x</td>\n",
       "      <td>09/30/2015</td>\n",
       "      <td>Supply Chain Design</td>\n",
       "      <td>[Chris Caplice, Yossi Sheffi, James Blayney Ri...</td>\n",
       "      <td>Government, Health, and Social Science</td>\n",
       "      <td>4</td>\n",
       "      <td>27134</td>\n",
       "      <td>3325.000000</td>\n",
       "      <td>3358</td>\n",
       "      <td>24.360000</td>\n",
       "      <td>12.355000</td>\n",
       "      <td>75.790000</td>\n",
       "      <td>15.015000</td>\n",
       "      <td>25.380000</td>\n",
       "      <td>129.300000</td>\n",
       "      <td>29.500000</td>\n",
       "      <td>77.700000</td>\n",
       "      <td>22.300000</td>\n",
       "      <td>85.415000</td>\n",
       "    </tr>\n",
       "    <tr>\n",
       "      <th>65</th>\n",
       "      <td>HarvardX</td>\n",
       "      <td>EMC2x</td>\n",
       "      <td>02/11/2015</td>\n",
       "      <td>The Einstein Revolution</td>\n",
       "      <td>[Peter Galison]</td>\n",
       "      <td>Humanities, History, Design, Religion, and Edu...</td>\n",
       "      <td>4</td>\n",
       "      <td>17276</td>\n",
       "      <td>805.500000</td>\n",
       "      <td>204</td>\n",
       "      <td>8.885000</td>\n",
       "      <td>0.915000</td>\n",
       "      <td>71.130000</td>\n",
       "      <td>6.945000</td>\n",
       "      <td>14.335000</td>\n",
       "      <td>64.515000</td>\n",
       "      <td>28.000000</td>\n",
       "      <td>70.785000</td>\n",
       "      <td>29.215000</td>\n",
       "      <td>64.570000</td>\n",
       "    </tr>\n",
       "  </tbody>\n",
       "</table>\n",
       "<p>66 rows × 20 columns</p>\n",
       "</div>"
      ],
      "text/plain": [
       "   Institution Course Number Launch Date  \\\n",
       "0         MITx       6.00.1x  10/16/2013   \n",
       "1         MITx        3.091x  10/09/2012   \n",
       "2         MITx        6.002x  09/05/2012   \n",
       "3         MITx       6.00.2x  03/05/2014   \n",
       "4         MITx        14.73x  02/12/2013   \n",
       "..         ...           ...         ...   \n",
       "61        MITx      JPAL101x  10/05/2015   \n",
       "62        MITx      CTL.SC1x  05/27/2015   \n",
       "63    HarvardX        USW30x  06/02/2014   \n",
       "64        MITx      CTL.SC2x  09/30/2015   \n",
       "65    HarvardX         EMC2x  02/11/2015   \n",
       "\n",
       "                                         Course Title  \\\n",
       "0    Introduction to Computer Science and Programming   \n",
       "1               Introduction to Solid State Chemistry   \n",
       "2                            Circuits and Electronics   \n",
       "3   Introduction to Computational Thinking and Dat...   \n",
       "4                    The Challenges of Global Poverty   \n",
       "..                                                ...   \n",
       "61                         Evaluating Social Programs   \n",
       "62            Supply Chain and Logistics Fundamentals   \n",
       "63                                    Tangible Things   \n",
       "64                                Supply Chain Design   \n",
       "65                            The Einstein Revolution   \n",
       "\n",
       "                                          Instructors  \\\n",
       "0               [Eric Grimson, John Guttag, Ana Bell]   \n",
       "1                                      [Michael Cima]   \n",
       "2   [Khurram Afridi, Tania Khanna, Anant Agarwal, ...   \n",
       "3               [Eric Grimson, John Guttag, Ana Bell]   \n",
       "4   [Esther Duflo, Abhijit Banerjee, Duflo, Banerj...   \n",
       "..                                                ...   \n",
       "61                [Rachel Glennerster, Marc Shotland]   \n",
       "62                                    [Chris Caplice]   \n",
       "63                                    [Laurel Ulrich]   \n",
       "64  [Chris Caplice, Yossi Sheffi, James Blayney Ri...   \n",
       "65                                    [Peter Galison]   \n",
       "\n",
       "                                       Course Subject Year  \\\n",
       "0                                    Computer Science    4   \n",
       "1   Science, Technology, Engineering, and Mathematics    4   \n",
       "2   Science, Technology, Engineering, and Mathematics    3   \n",
       "3                                    Computer Science    4   \n",
       "4              Government, Health, and Social Science    4   \n",
       "..                                                ...  ...   \n",
       "61             Government, Health, and Social Science    4   \n",
       "62             Government, Health, and Social Science    4   \n",
       "63  Humanities, History, Design, Religion, and Edu...    3   \n",
       "64             Government, Health, and Social Science    4   \n",
       "65  Humanities, History, Design, Religion, and Edu...    4   \n",
       "\n",
       "   Participants (Course Content Accessed)  \\\n",
       "0                                  364099   \n",
       "1                                   56421   \n",
       "2                                  116335   \n",
       "3                                   66102   \n",
       "4                                   52060   \n",
       "..                                    ...   \n",
       "61                                   8317   \n",
       "62                                  38682   \n",
       "63                                  15531   \n",
       "64                                  27134   \n",
       "65                                  17276   \n",
       "\n",
       "    Audited (> 50% Course Content Accessed) Certified  % Audited  % Certified  \\\n",
       "0                               6584.666667     29412  17.018889     8.252222   \n",
       "1                                847.000000      3608   8.805714     4.840000   \n",
       "2                               2131.000000      5169   8.432000     4.010000   \n",
       "3                               2372.400000      6446  18.022000     9.842000   \n",
       "4                               2434.250000      6670  15.580000    10.285000   \n",
       "..                                      ...       ...        ...          ...   \n",
       "61                               752.500000       356  18.110000     4.280000   \n",
       "62                              4162.500000      3863  21.665000    10.090000   \n",
       "63                              1723.500000      1443  21.245000     8.765000   \n",
       "64                              3325.000000      3358  24.360000    12.355000   \n",
       "65                               805.500000       204   8.885000     0.915000   \n",
       "\n",
       "    % Played Video  % Posted in Forum  % Grade Higher Than Zero  \\\n",
       "0        72.924444           8.640000                 44.654444   \n",
       "1        73.691429           8.097143                 22.082857   \n",
       "2        71.438000           4.884000                 16.932000   \n",
       "3        69.172000           6.984000                 30.702000   \n",
       "4        71.565000           9.397500                 31.895000   \n",
       "..             ...                ...                       ...   \n",
       "61       57.575000           6.305000                 24.470000   \n",
       "62       75.015000          18.235000                 27.060000   \n",
       "63       70.635000          25.675000                 29.380000   \n",
       "64       75.790000          15.015000                 25.380000   \n",
       "65       71.130000           6.945000                 14.335000   \n",
       "\n",
       "    Median Hours for Certification  Median Age     % Male   % Female  \\\n",
       "0                        60.734444   26.333333  81.753333  18.246667   \n",
       "1                        95.955714   26.142857  74.007143  25.992857   \n",
       "2                        82.980000   25.200000  88.522000  11.478000   \n",
       "3                        56.604000   28.000000  86.250000  13.750000   \n",
       "4                        57.370000   28.500000  52.722500  47.277500   \n",
       "..                             ...         ...        ...        ...   \n",
       "61                       42.920000   30.000000  50.130000  49.870000   \n",
       "62                      144.525000   29.000000  76.590000  23.410000   \n",
       "63                        9.190000   33.000000  35.845000  64.155000   \n",
       "64                      129.300000   29.500000  77.700000  22.300000   \n",
       "65                       64.515000   28.000000  70.785000  29.215000   \n",
       "\n",
       "    % Bachelor's Degree or Higher  \n",
       "0                       63.575556  \n",
       "1                       58.424286  \n",
       "2                       57.666000  \n",
       "3                       74.190000  \n",
       "4                       79.430000  \n",
       "..                            ...  \n",
       "61                      89.620000  \n",
       "62                      82.675000  \n",
       "63                      75.100000  \n",
       "64                      85.415000  \n",
       "65                      64.570000  \n",
       "\n",
       "[66 rows x 20 columns]"
      ]
     },
     "execution_count": 20,
     "metadata": {},
     "output_type": "execute_result"
    }
   ],
   "source": [
    "# Print out sample rows to ensure that columns have been populated appropriately\n",
    "final_df"
   ]
  },
  {
   "cell_type": "markdown",
   "id": "3573e315-7a97-46c3-a906-a4a1e924b478",
   "metadata": {},
   "source": [
    "### *Designate Unique Courses and Add to Finalized Dataframe* ###"
   ]
  },
  {
   "cell_type": "code",
   "execution_count": 21,
   "id": "e1378577-6caa-44d5-9f48-0968b4c6d004",
   "metadata": {
    "tags": []
   },
   "outputs": [
    {
     "data": {
      "text/plain": [
       "122"
      ]
     },
     "execution_count": 21,
     "metadata": {},
     "output_type": "execute_result"
    }
   ],
   "source": [
    "# Designate unique courses\n",
    "unique_courses = [course for course in course_occurences.keys() if course_occurences[course]==1]\n",
    "\n",
    "# Check that list accords with previous count\n",
    "len(unique_courses)"
   ]
  },
  {
   "cell_type": "code",
   "execution_count": 22,
   "id": "ffd25053-26cf-4849-b09c-8f94111bbe65",
   "metadata": {},
   "outputs": [
    {
     "data": {
      "text/plain": [
       "122"
      ]
     },
     "execution_count": 22,
     "metadata": {},
     "output_type": "execute_result"
    }
   ],
   "source": [
    "# Create a filtered dataframe containing only unique course instances\n",
    "unique_courses_df = df.loc[df[\"Course Number\"].isin(unique_courses)]\n",
    "\n",
    "# Verify that length of the dataframe accords with previous count\n",
    "len(unique_courses_df)"
   ]
  },
  {
   "cell_type": "code",
   "execution_count": 23,
   "id": "2eac9af6-3311-406d-9c19-dfb9a4e62175",
   "metadata": {},
   "outputs": [
    {
     "data": {
      "text/plain": [
       "122"
      ]
     },
     "execution_count": 23,
     "metadata": {},
     "output_type": "execute_result"
    }
   ],
   "source": [
    "# Verify that the dataframe contains only unique course numbers\n",
    "len(set(unique_courses_df[\"Course Number\"]))"
   ]
  },
  {
   "cell_type": "code",
   "execution_count": 24,
   "id": "e3b791bf-19ec-4da4-99aa-99f3938dd286",
   "metadata": {},
   "outputs": [
    {
     "data": {
      "text/html": [
       "<div>\n",
       "<style scoped>\n",
       "    .dataframe tbody tr th:only-of-type {\n",
       "        vertical-align: middle;\n",
       "    }\n",
       "\n",
       "    .dataframe tbody tr th {\n",
       "        vertical-align: top;\n",
       "    }\n",
       "\n",
       "    .dataframe thead th {\n",
       "        text-align: right;\n",
       "    }\n",
       "</style>\n",
       "<table border=\"1\" class=\"dataframe\">\n",
       "  <thead>\n",
       "    <tr style=\"text-align: right;\">\n",
       "      <th></th>\n",
       "      <th>Institution</th>\n",
       "      <th>Course Number</th>\n",
       "      <th>Launch Date</th>\n",
       "      <th>Course Title</th>\n",
       "      <th>Instructors</th>\n",
       "      <th>Course Subject</th>\n",
       "      <th>Year</th>\n",
       "      <th>Participants (Course Content Accessed)</th>\n",
       "      <th>Audited (&gt; 50% Course Content Accessed)</th>\n",
       "      <th>Certified</th>\n",
       "      <th>% Audited</th>\n",
       "      <th>% Certified</th>\n",
       "      <th>% Played Video</th>\n",
       "      <th>% Posted in Forum</th>\n",
       "      <th>% Grade Higher Than Zero</th>\n",
       "      <th>Median Hours for Certification</th>\n",
       "      <th>Median Age</th>\n",
       "      <th>% Male</th>\n",
       "      <th>% Female</th>\n",
       "      <th>% Bachelor's Degree or Higher</th>\n",
       "    </tr>\n",
       "  </thead>\n",
       "  <tbody>\n",
       "    <tr>\n",
       "      <th>4</th>\n",
       "      <td>HarvardX</td>\n",
       "      <td>PH207x</td>\n",
       "      <td>10/15/2012</td>\n",
       "      <td>Health in Numbers: Quantitative Methods in Cli...</td>\n",
       "      <td>Earl Francis Cook, Marcello Pagano</td>\n",
       "      <td>Government, Health, and Social Science</td>\n",
       "      <td>1</td>\n",
       "      <td>52521</td>\n",
       "      <td>10729</td>\n",
       "      <td>5058</td>\n",
       "      <td>20.44</td>\n",
       "      <td>9.64</td>\n",
       "      <td>77.45</td>\n",
       "      <td>15.98</td>\n",
       "      <td>32.52</td>\n",
       "      <td>76.10</td>\n",
       "      <td>32.0</td>\n",
       "      <td>56.78</td>\n",
       "      <td>43.22</td>\n",
       "      <td>88.33</td>\n",
       "    </tr>\n",
       "    <tr>\n",
       "      <th>8</th>\n",
       "      <td>MITx</td>\n",
       "      <td>8.02x</td>\n",
       "      <td>02/18/2013</td>\n",
       "      <td>Electricity and Magnetism</td>\n",
       "      <td>Walter Lewin, John Belcher, Peter Dourmashkin,...</td>\n",
       "      <td>Science, Technology, Engineering, and Mathematics</td>\n",
       "      <td>1</td>\n",
       "      <td>39178</td>\n",
       "      <td>3543</td>\n",
       "      <td>1722</td>\n",
       "      <td>9.04</td>\n",
       "      <td>4.40</td>\n",
       "      <td>85.30</td>\n",
       "      <td>5.86</td>\n",
       "      <td>16.04</td>\n",
       "      <td>107.88</td>\n",
       "      <td>26.0</td>\n",
       "      <td>85.42</td>\n",
       "      <td>14.58</td>\n",
       "      <td>56.97</td>\n",
       "    </tr>\n",
       "    <tr>\n",
       "      <th>12</th>\n",
       "      <td>HarvardX</td>\n",
       "      <td>CB22x</td>\n",
       "      <td>03/13/2013</td>\n",
       "      <td>The Ancient Greek Hero</td>\n",
       "      <td>Greg Nagy, L.Muellner</td>\n",
       "      <td>Humanities, History, Design, Religion, and Edu...</td>\n",
       "      <td>1</td>\n",
       "      <td>25873</td>\n",
       "      <td>1803</td>\n",
       "      <td>1395</td>\n",
       "      <td>6.99</td>\n",
       "      <td>5.41</td>\n",
       "      <td>77.05</td>\n",
       "      <td>13.76</td>\n",
       "      <td>18.05</td>\n",
       "      <td>46.26</td>\n",
       "      <td>32.0</td>\n",
       "      <td>53.31</td>\n",
       "      <td>46.69</td>\n",
       "      <td>71.95</td>\n",
       "    </tr>\n",
       "    <tr>\n",
       "      <th>14</th>\n",
       "      <td>HarvardX</td>\n",
       "      <td>PH278x</td>\n",
       "      <td>05/15/2013</td>\n",
       "      <td>Human Health and Global Environmental Change</td>\n",
       "      <td>Aaron Bernstein, Jack Spengler</td>\n",
       "      <td>Government, Health, and Social Science</td>\n",
       "      <td>1</td>\n",
       "      <td>23179</td>\n",
       "      <td>3727</td>\n",
       "      <td>2743</td>\n",
       "      <td>16.10</td>\n",
       "      <td>11.85</td>\n",
       "      <td>85.35</td>\n",
       "      <td>14.48</td>\n",
       "      <td>29.01</td>\n",
       "      <td>21.69</td>\n",
       "      <td>30.0</td>\n",
       "      <td>51.15</td>\n",
       "      <td>48.85</td>\n",
       "      <td>75.19</td>\n",
       "    </tr>\n",
       "    <tr>\n",
       "      <th>17</th>\n",
       "      <td>HarvardX</td>\n",
       "      <td>CB22.1x</td>\n",
       "      <td>09/03/2013</td>\n",
       "      <td>The Ancient Greek Hero</td>\n",
       "      <td>Greg Nagy</td>\n",
       "      <td>Humanities, History, Design, Religion, and Edu...</td>\n",
       "      <td>2</td>\n",
       "      <td>17604</td>\n",
       "      <td>1260</td>\n",
       "      <td>728</td>\n",
       "      <td>7.18</td>\n",
       "      <td>4.15</td>\n",
       "      <td>68.77</td>\n",
       "      <td>6.59</td>\n",
       "      <td>14.96</td>\n",
       "      <td>22.10</td>\n",
       "      <td>31.0</td>\n",
       "      <td>52.11</td>\n",
       "      <td>47.89</td>\n",
       "      <td>68.75</td>\n",
       "    </tr>\n",
       "    <tr>\n",
       "      <th>...</th>\n",
       "      <td>...</td>\n",
       "      <td>...</td>\n",
       "      <td>...</td>\n",
       "      <td>...</td>\n",
       "      <td>...</td>\n",
       "      <td>...</td>\n",
       "      <td>...</td>\n",
       "      <td>...</td>\n",
       "      <td>...</td>\n",
       "      <td>...</td>\n",
       "      <td>...</td>\n",
       "      <td>...</td>\n",
       "      <td>...</td>\n",
       "      <td>...</td>\n",
       "      <td>...</td>\n",
       "      <td>...</td>\n",
       "      <td>...</td>\n",
       "      <td>...</td>\n",
       "      <td>...</td>\n",
       "      <td>...</td>\n",
       "    </tr>\n",
       "    <tr>\n",
       "      <th>283</th>\n",
       "      <td>HarvardX</td>\n",
       "      <td>HDS3221.5x</td>\n",
       "      <td>07/05/2016</td>\n",
       "      <td>World Religions Through their Scriptures: Hind...</td>\n",
       "      <td>Neelima Shukla-Bhatt</td>\n",
       "      <td>Humanities, History, Design, Religion, and Edu...</td>\n",
       "      <td>4</td>\n",
       "      <td>4553</td>\n",
       "      <td>1051</td>\n",
       "      <td>70</td>\n",
       "      <td>23.08</td>\n",
       "      <td>1.54</td>\n",
       "      <td>73.34</td>\n",
       "      <td>16.65</td>\n",
       "      <td>1.54</td>\n",
       "      <td>26.74</td>\n",
       "      <td>31.0</td>\n",
       "      <td>56.97</td>\n",
       "      <td>43.03</td>\n",
       "      <td>74.39</td>\n",
       "    </tr>\n",
       "    <tr>\n",
       "      <th>285</th>\n",
       "      <td>HarvardX</td>\n",
       "      <td>MUS24.4x</td>\n",
       "      <td>07/21/2016</td>\n",
       "      <td>First Nights: Symphonie Fantastique</td>\n",
       "      <td>Tom Kelly</td>\n",
       "      <td>Humanities, History, Design, Religion, and Edu...</td>\n",
       "      <td>4</td>\n",
       "      <td>615</td>\n",
       "      <td>305</td>\n",
       "      <td>20</td>\n",
       "      <td>49.59</td>\n",
       "      <td>3.25</td>\n",
       "      <td>80.81</td>\n",
       "      <td>8.78</td>\n",
       "      <td>3.25</td>\n",
       "      <td>5.93</td>\n",
       "      <td>38.0</td>\n",
       "      <td>56.82</td>\n",
       "      <td>43.18</td>\n",
       "      <td>74.66</td>\n",
       "    </tr>\n",
       "    <tr>\n",
       "      <th>286</th>\n",
       "      <td>HarvardX</td>\n",
       "      <td>GSE4x</td>\n",
       "      <td>07/25/2016</td>\n",
       "      <td>Introduction to Family Engagement in Education</td>\n",
       "      <td>Karen Mapp</td>\n",
       "      <td>Humanities, History, Design, Religion, and Edu...</td>\n",
       "      <td>4</td>\n",
       "      <td>2871</td>\n",
       "      <td>267</td>\n",
       "      <td>20</td>\n",
       "      <td>9.30</td>\n",
       "      <td>0.70</td>\n",
       "      <td>70.11</td>\n",
       "      <td>0.00</td>\n",
       "      <td>0.70</td>\n",
       "      <td>11.33</td>\n",
       "      <td>34.0</td>\n",
       "      <td>25.24</td>\n",
       "      <td>74.76</td>\n",
       "      <td>82.31</td>\n",
       "    </tr>\n",
       "    <tr>\n",
       "      <th>288</th>\n",
       "      <td>MITx</td>\n",
       "      <td>6.302.1x</td>\n",
       "      <td>08/01/2016</td>\n",
       "      <td>Introduction to State Space Control</td>\n",
       "      <td>Jacob White, Joe Steinmeyer</td>\n",
       "      <td>Science, Technology, Engineering, and Mathematics</td>\n",
       "      <td>4</td>\n",
       "      <td>1431</td>\n",
       "      <td>208</td>\n",
       "      <td>8</td>\n",
       "      <td>14.54</td>\n",
       "      <td>0.56</td>\n",
       "      <td>0.00</td>\n",
       "      <td>3.84</td>\n",
       "      <td>5.73</td>\n",
       "      <td>62.38</td>\n",
       "      <td>25.0</td>\n",
       "      <td>93.44</td>\n",
       "      <td>6.56</td>\n",
       "      <td>72.31</td>\n",
       "    </tr>\n",
       "    <tr>\n",
       "      <th>289</th>\n",
       "      <td>MITx</td>\n",
       "      <td>3.15.3x</td>\n",
       "      <td>08/03/2016</td>\n",
       "      <td>Magnetic Materials and Devices</td>\n",
       "      <td>Caroline Ross</td>\n",
       "      <td>Science, Technology, Engineering, and Mathematics</td>\n",
       "      <td>4</td>\n",
       "      <td>1294</td>\n",
       "      <td>364</td>\n",
       "      <td>38</td>\n",
       "      <td>28.13</td>\n",
       "      <td>2.94</td>\n",
       "      <td>49.92</td>\n",
       "      <td>4.40</td>\n",
       "      <td>14.30</td>\n",
       "      <td>40.59</td>\n",
       "      <td>25.0</td>\n",
       "      <td>85.95</td>\n",
       "      <td>14.05</td>\n",
       "      <td>65.78</td>\n",
       "    </tr>\n",
       "  </tbody>\n",
       "</table>\n",
       "<p>122 rows × 20 columns</p>\n",
       "</div>"
      ],
      "text/plain": [
       "    Institution Course Number Launch Date  \\\n",
       "4      HarvardX        PH207x  10/15/2012   \n",
       "8          MITx         8.02x  02/18/2013   \n",
       "12     HarvardX         CB22x  03/13/2013   \n",
       "14     HarvardX        PH278x  05/15/2013   \n",
       "17     HarvardX       CB22.1x  09/03/2013   \n",
       "..          ...           ...         ...   \n",
       "283    HarvardX    HDS3221.5x  07/05/2016   \n",
       "285    HarvardX      MUS24.4x  07/21/2016   \n",
       "286    HarvardX         GSE4x  07/25/2016   \n",
       "288        MITx      6.302.1x  08/01/2016   \n",
       "289        MITx       3.15.3x  08/03/2016   \n",
       "\n",
       "                                          Course Title  \\\n",
       "4    Health in Numbers: Quantitative Methods in Cli...   \n",
       "8                            Electricity and Magnetism   \n",
       "12                              The Ancient Greek Hero   \n",
       "14        Human Health and Global Environmental Change   \n",
       "17                              The Ancient Greek Hero   \n",
       "..                                                 ...   \n",
       "283  World Religions Through their Scriptures: Hind...   \n",
       "285                First Nights: Symphonie Fantastique   \n",
       "286     Introduction to Family Engagement in Education   \n",
       "288                Introduction to State Space Control   \n",
       "289                     Magnetic Materials and Devices   \n",
       "\n",
       "                                           Instructors  \\\n",
       "4                   Earl Francis Cook, Marcello Pagano   \n",
       "8    Walter Lewin, John Belcher, Peter Dourmashkin,...   \n",
       "12                               Greg Nagy, L.Muellner   \n",
       "14                      Aaron Bernstein, Jack Spengler   \n",
       "17                                           Greg Nagy   \n",
       "..                                                 ...   \n",
       "283                               Neelima Shukla-Bhatt   \n",
       "285                                          Tom Kelly   \n",
       "286                                         Karen Mapp   \n",
       "288                        Jacob White, Joe Steinmeyer   \n",
       "289                                      Caroline Ross   \n",
       "\n",
       "                                        Course Subject  Year  \\\n",
       "4               Government, Health, and Social Science     1   \n",
       "8    Science, Technology, Engineering, and Mathematics     1   \n",
       "12   Humanities, History, Design, Religion, and Edu...     1   \n",
       "14              Government, Health, and Social Science     1   \n",
       "17   Humanities, History, Design, Religion, and Edu...     2   \n",
       "..                                                 ...   ...   \n",
       "283  Humanities, History, Design, Religion, and Edu...     4   \n",
       "285  Humanities, History, Design, Religion, and Edu...     4   \n",
       "286  Humanities, History, Design, Religion, and Edu...     4   \n",
       "288  Science, Technology, Engineering, and Mathematics     4   \n",
       "289  Science, Technology, Engineering, and Mathematics     4   \n",
       "\n",
       "     Participants (Course Content Accessed)  \\\n",
       "4                                     52521   \n",
       "8                                     39178   \n",
       "12                                    25873   \n",
       "14                                    23179   \n",
       "17                                    17604   \n",
       "..                                      ...   \n",
       "283                                    4553   \n",
       "285                                     615   \n",
       "286                                    2871   \n",
       "288                                    1431   \n",
       "289                                    1294   \n",
       "\n",
       "     Audited (> 50% Course Content Accessed)  Certified  % Audited  \\\n",
       "4                                      10729       5058      20.44   \n",
       "8                                       3543       1722       9.04   \n",
       "12                                      1803       1395       6.99   \n",
       "14                                      3727       2743      16.10   \n",
       "17                                      1260        728       7.18   \n",
       "..                                       ...        ...        ...   \n",
       "283                                     1051         70      23.08   \n",
       "285                                      305         20      49.59   \n",
       "286                                      267         20       9.30   \n",
       "288                                      208          8      14.54   \n",
       "289                                      364         38      28.13   \n",
       "\n",
       "     % Certified  % Played Video  % Posted in Forum  % Grade Higher Than Zero  \\\n",
       "4           9.64           77.45              15.98                     32.52   \n",
       "8           4.40           85.30               5.86                     16.04   \n",
       "12          5.41           77.05              13.76                     18.05   \n",
       "14         11.85           85.35              14.48                     29.01   \n",
       "17          4.15           68.77               6.59                     14.96   \n",
       "..           ...             ...                ...                       ...   \n",
       "283         1.54           73.34              16.65                      1.54   \n",
       "285         3.25           80.81               8.78                      3.25   \n",
       "286         0.70           70.11               0.00                      0.70   \n",
       "288         0.56            0.00               3.84                      5.73   \n",
       "289         2.94           49.92               4.40                     14.30   \n",
       "\n",
       "     Median Hours for Certification  Median Age  % Male  % Female  \\\n",
       "4                             76.10        32.0   56.78     43.22   \n",
       "8                            107.88        26.0   85.42     14.58   \n",
       "12                            46.26        32.0   53.31     46.69   \n",
       "14                            21.69        30.0   51.15     48.85   \n",
       "17                            22.10        31.0   52.11     47.89   \n",
       "..                              ...         ...     ...       ...   \n",
       "283                           26.74        31.0   56.97     43.03   \n",
       "285                            5.93        38.0   56.82     43.18   \n",
       "286                           11.33        34.0   25.24     74.76   \n",
       "288                           62.38        25.0   93.44      6.56   \n",
       "289                           40.59        25.0   85.95     14.05   \n",
       "\n",
       "     % Bachelor's Degree or Higher  \n",
       "4                            88.33  \n",
       "8                            56.97  \n",
       "12                           71.95  \n",
       "14                           75.19  \n",
       "17                           68.75  \n",
       "..                             ...  \n",
       "283                          74.39  \n",
       "285                          74.66  \n",
       "286                          82.31  \n",
       "288                          72.31  \n",
       "289                          65.78  \n",
       "\n",
       "[122 rows x 20 columns]"
      ]
     },
     "execution_count": 24,
     "metadata": {},
     "output_type": "execute_result"
    }
   ],
   "source": [
    "# Sample printout of unique courses\n",
    "unique_courses_df"
   ]
  },
  {
   "cell_type": "code",
   "execution_count": 25,
   "id": "03a00ac5-cb39-4b7c-ad91-7735792dcb6a",
   "metadata": {
    "tags": []
   },
   "outputs": [],
   "source": [
    "# unique_courses_df.reset_index()\n",
    "# unique_courses_df"
   ]
  },
  {
   "cell_type": "code",
   "execution_count": 26,
   "id": "630e71e4-9b57-4c47-b9cb-bf13644853d2",
   "metadata": {
    "tags": []
   },
   "outputs": [],
   "source": [
    "# unique_courses_df.index"
   ]
  },
  {
   "cell_type": "code",
   "execution_count": 27,
   "id": "f2359051-c251-4d91-936e-a1d9d554e78b",
   "metadata": {},
   "outputs": [],
   "source": [
    "# Reformat \"Instructors\" column by looping through all of \n",
    "#  unique records and re-assigning reformatted instructors list\n",
    "for i in range(len(unique_courses_df)):\n",
    "    unique_courses_df.at[unique_courses_df.index[i], \"Instructors\"] = get_instructors([unique_courses_df.iloc[i][\"Instructors\"]])"
   ]
  },
  {
   "cell_type": "code",
   "execution_count": 28,
   "id": "4acc6bce-77b5-496c-84ac-e2194391fef9",
   "metadata": {
    "tags": []
   },
   "outputs": [
    {
     "data": {
      "text/html": [
       "<div>\n",
       "<style scoped>\n",
       "    .dataframe tbody tr th:only-of-type {\n",
       "        vertical-align: middle;\n",
       "    }\n",
       "\n",
       "    .dataframe tbody tr th {\n",
       "        vertical-align: top;\n",
       "    }\n",
       "\n",
       "    .dataframe thead th {\n",
       "        text-align: right;\n",
       "    }\n",
       "</style>\n",
       "<table border=\"1\" class=\"dataframe\">\n",
       "  <thead>\n",
       "    <tr style=\"text-align: right;\">\n",
       "      <th></th>\n",
       "      <th>Institution</th>\n",
       "      <th>Course Number</th>\n",
       "      <th>Launch Date</th>\n",
       "      <th>Course Title</th>\n",
       "      <th>Instructors</th>\n",
       "      <th>Course Subject</th>\n",
       "      <th>Year</th>\n",
       "      <th>Participants (Course Content Accessed)</th>\n",
       "      <th>Audited (&gt; 50% Course Content Accessed)</th>\n",
       "      <th>Certified</th>\n",
       "      <th>% Audited</th>\n",
       "      <th>% Certified</th>\n",
       "      <th>% Played Video</th>\n",
       "      <th>% Posted in Forum</th>\n",
       "      <th>% Grade Higher Than Zero</th>\n",
       "      <th>Median Hours for Certification</th>\n",
       "      <th>Median Age</th>\n",
       "      <th>% Male</th>\n",
       "      <th>% Female</th>\n",
       "      <th>% Bachelor's Degree or Higher</th>\n",
       "    </tr>\n",
       "  </thead>\n",
       "  <tbody>\n",
       "    <tr>\n",
       "      <th>4</th>\n",
       "      <td>HarvardX</td>\n",
       "      <td>PH207x</td>\n",
       "      <td>10/15/2012</td>\n",
       "      <td>Health in Numbers: Quantitative Methods in Cli...</td>\n",
       "      <td>[Earl Francis Cook, Marcello Pagano]</td>\n",
       "      <td>Government, Health, and Social Science</td>\n",
       "      <td>1</td>\n",
       "      <td>52521</td>\n",
       "      <td>10729</td>\n",
       "      <td>5058</td>\n",
       "      <td>20.44</td>\n",
       "      <td>9.64</td>\n",
       "      <td>77.45</td>\n",
       "      <td>15.98</td>\n",
       "      <td>32.52</td>\n",
       "      <td>76.10</td>\n",
       "      <td>32.0</td>\n",
       "      <td>56.78</td>\n",
       "      <td>43.22</td>\n",
       "      <td>88.33</td>\n",
       "    </tr>\n",
       "    <tr>\n",
       "      <th>8</th>\n",
       "      <td>MITx</td>\n",
       "      <td>8.02x</td>\n",
       "      <td>02/18/2013</td>\n",
       "      <td>Electricity and Magnetism</td>\n",
       "      <td>[Walter Lewin, John Belcher, Peter Dourmashkin...</td>\n",
       "      <td>Science, Technology, Engineering, and Mathematics</td>\n",
       "      <td>1</td>\n",
       "      <td>39178</td>\n",
       "      <td>3543</td>\n",
       "      <td>1722</td>\n",
       "      <td>9.04</td>\n",
       "      <td>4.40</td>\n",
       "      <td>85.30</td>\n",
       "      <td>5.86</td>\n",
       "      <td>16.04</td>\n",
       "      <td>107.88</td>\n",
       "      <td>26.0</td>\n",
       "      <td>85.42</td>\n",
       "      <td>14.58</td>\n",
       "      <td>56.97</td>\n",
       "    </tr>\n",
       "    <tr>\n",
       "      <th>12</th>\n",
       "      <td>HarvardX</td>\n",
       "      <td>CB22x</td>\n",
       "      <td>03/13/2013</td>\n",
       "      <td>The Ancient Greek Hero</td>\n",
       "      <td>[Greg Nagy, L.Muellner]</td>\n",
       "      <td>Humanities, History, Design, Religion, and Edu...</td>\n",
       "      <td>1</td>\n",
       "      <td>25873</td>\n",
       "      <td>1803</td>\n",
       "      <td>1395</td>\n",
       "      <td>6.99</td>\n",
       "      <td>5.41</td>\n",
       "      <td>77.05</td>\n",
       "      <td>13.76</td>\n",
       "      <td>18.05</td>\n",
       "      <td>46.26</td>\n",
       "      <td>32.0</td>\n",
       "      <td>53.31</td>\n",
       "      <td>46.69</td>\n",
       "      <td>71.95</td>\n",
       "    </tr>\n",
       "    <tr>\n",
       "      <th>14</th>\n",
       "      <td>HarvardX</td>\n",
       "      <td>PH278x</td>\n",
       "      <td>05/15/2013</td>\n",
       "      <td>Human Health and Global Environmental Change</td>\n",
       "      <td>[Aaron Bernstein, Jack Spengler]</td>\n",
       "      <td>Government, Health, and Social Science</td>\n",
       "      <td>1</td>\n",
       "      <td>23179</td>\n",
       "      <td>3727</td>\n",
       "      <td>2743</td>\n",
       "      <td>16.10</td>\n",
       "      <td>11.85</td>\n",
       "      <td>85.35</td>\n",
       "      <td>14.48</td>\n",
       "      <td>29.01</td>\n",
       "      <td>21.69</td>\n",
       "      <td>30.0</td>\n",
       "      <td>51.15</td>\n",
       "      <td>48.85</td>\n",
       "      <td>75.19</td>\n",
       "    </tr>\n",
       "    <tr>\n",
       "      <th>17</th>\n",
       "      <td>HarvardX</td>\n",
       "      <td>CB22.1x</td>\n",
       "      <td>09/03/2013</td>\n",
       "      <td>The Ancient Greek Hero</td>\n",
       "      <td>[Greg Nagy]</td>\n",
       "      <td>Humanities, History, Design, Religion, and Edu...</td>\n",
       "      <td>2</td>\n",
       "      <td>17604</td>\n",
       "      <td>1260</td>\n",
       "      <td>728</td>\n",
       "      <td>7.18</td>\n",
       "      <td>4.15</td>\n",
       "      <td>68.77</td>\n",
       "      <td>6.59</td>\n",
       "      <td>14.96</td>\n",
       "      <td>22.10</td>\n",
       "      <td>31.0</td>\n",
       "      <td>52.11</td>\n",
       "      <td>47.89</td>\n",
       "      <td>68.75</td>\n",
       "    </tr>\n",
       "    <tr>\n",
       "      <th>...</th>\n",
       "      <td>...</td>\n",
       "      <td>...</td>\n",
       "      <td>...</td>\n",
       "      <td>...</td>\n",
       "      <td>...</td>\n",
       "      <td>...</td>\n",
       "      <td>...</td>\n",
       "      <td>...</td>\n",
       "      <td>...</td>\n",
       "      <td>...</td>\n",
       "      <td>...</td>\n",
       "      <td>...</td>\n",
       "      <td>...</td>\n",
       "      <td>...</td>\n",
       "      <td>...</td>\n",
       "      <td>...</td>\n",
       "      <td>...</td>\n",
       "      <td>...</td>\n",
       "      <td>...</td>\n",
       "      <td>...</td>\n",
       "    </tr>\n",
       "    <tr>\n",
       "      <th>283</th>\n",
       "      <td>HarvardX</td>\n",
       "      <td>HDS3221.5x</td>\n",
       "      <td>07/05/2016</td>\n",
       "      <td>World Religions Through their Scriptures: Hind...</td>\n",
       "      <td>[Neelima Shukla-Bhatt]</td>\n",
       "      <td>Humanities, History, Design, Religion, and Edu...</td>\n",
       "      <td>4</td>\n",
       "      <td>4553</td>\n",
       "      <td>1051</td>\n",
       "      <td>70</td>\n",
       "      <td>23.08</td>\n",
       "      <td>1.54</td>\n",
       "      <td>73.34</td>\n",
       "      <td>16.65</td>\n",
       "      <td>1.54</td>\n",
       "      <td>26.74</td>\n",
       "      <td>31.0</td>\n",
       "      <td>56.97</td>\n",
       "      <td>43.03</td>\n",
       "      <td>74.39</td>\n",
       "    </tr>\n",
       "    <tr>\n",
       "      <th>285</th>\n",
       "      <td>HarvardX</td>\n",
       "      <td>MUS24.4x</td>\n",
       "      <td>07/21/2016</td>\n",
       "      <td>First Nights: Symphonie Fantastique</td>\n",
       "      <td>[Tom Kelly]</td>\n",
       "      <td>Humanities, History, Design, Religion, and Edu...</td>\n",
       "      <td>4</td>\n",
       "      <td>615</td>\n",
       "      <td>305</td>\n",
       "      <td>20</td>\n",
       "      <td>49.59</td>\n",
       "      <td>3.25</td>\n",
       "      <td>80.81</td>\n",
       "      <td>8.78</td>\n",
       "      <td>3.25</td>\n",
       "      <td>5.93</td>\n",
       "      <td>38.0</td>\n",
       "      <td>56.82</td>\n",
       "      <td>43.18</td>\n",
       "      <td>74.66</td>\n",
       "    </tr>\n",
       "    <tr>\n",
       "      <th>286</th>\n",
       "      <td>HarvardX</td>\n",
       "      <td>GSE4x</td>\n",
       "      <td>07/25/2016</td>\n",
       "      <td>Introduction to Family Engagement in Education</td>\n",
       "      <td>[Karen Mapp]</td>\n",
       "      <td>Humanities, History, Design, Religion, and Edu...</td>\n",
       "      <td>4</td>\n",
       "      <td>2871</td>\n",
       "      <td>267</td>\n",
       "      <td>20</td>\n",
       "      <td>9.30</td>\n",
       "      <td>0.70</td>\n",
       "      <td>70.11</td>\n",
       "      <td>0.00</td>\n",
       "      <td>0.70</td>\n",
       "      <td>11.33</td>\n",
       "      <td>34.0</td>\n",
       "      <td>25.24</td>\n",
       "      <td>74.76</td>\n",
       "      <td>82.31</td>\n",
       "    </tr>\n",
       "    <tr>\n",
       "      <th>288</th>\n",
       "      <td>MITx</td>\n",
       "      <td>6.302.1x</td>\n",
       "      <td>08/01/2016</td>\n",
       "      <td>Introduction to State Space Control</td>\n",
       "      <td>[Jacob White, Joe Steinmeyer]</td>\n",
       "      <td>Science, Technology, Engineering, and Mathematics</td>\n",
       "      <td>4</td>\n",
       "      <td>1431</td>\n",
       "      <td>208</td>\n",
       "      <td>8</td>\n",
       "      <td>14.54</td>\n",
       "      <td>0.56</td>\n",
       "      <td>0.00</td>\n",
       "      <td>3.84</td>\n",
       "      <td>5.73</td>\n",
       "      <td>62.38</td>\n",
       "      <td>25.0</td>\n",
       "      <td>93.44</td>\n",
       "      <td>6.56</td>\n",
       "      <td>72.31</td>\n",
       "    </tr>\n",
       "    <tr>\n",
       "      <th>289</th>\n",
       "      <td>MITx</td>\n",
       "      <td>3.15.3x</td>\n",
       "      <td>08/03/2016</td>\n",
       "      <td>Magnetic Materials and Devices</td>\n",
       "      <td>[Caroline Ross]</td>\n",
       "      <td>Science, Technology, Engineering, and Mathematics</td>\n",
       "      <td>4</td>\n",
       "      <td>1294</td>\n",
       "      <td>364</td>\n",
       "      <td>38</td>\n",
       "      <td>28.13</td>\n",
       "      <td>2.94</td>\n",
       "      <td>49.92</td>\n",
       "      <td>4.40</td>\n",
       "      <td>14.30</td>\n",
       "      <td>40.59</td>\n",
       "      <td>25.0</td>\n",
       "      <td>85.95</td>\n",
       "      <td>14.05</td>\n",
       "      <td>65.78</td>\n",
       "    </tr>\n",
       "  </tbody>\n",
       "</table>\n",
       "<p>122 rows × 20 columns</p>\n",
       "</div>"
      ],
      "text/plain": [
       "    Institution Course Number Launch Date  \\\n",
       "4      HarvardX        PH207x  10/15/2012   \n",
       "8          MITx         8.02x  02/18/2013   \n",
       "12     HarvardX         CB22x  03/13/2013   \n",
       "14     HarvardX        PH278x  05/15/2013   \n",
       "17     HarvardX       CB22.1x  09/03/2013   \n",
       "..          ...           ...         ...   \n",
       "283    HarvardX    HDS3221.5x  07/05/2016   \n",
       "285    HarvardX      MUS24.4x  07/21/2016   \n",
       "286    HarvardX         GSE4x  07/25/2016   \n",
       "288        MITx      6.302.1x  08/01/2016   \n",
       "289        MITx       3.15.3x  08/03/2016   \n",
       "\n",
       "                                          Course Title  \\\n",
       "4    Health in Numbers: Quantitative Methods in Cli...   \n",
       "8                            Electricity and Magnetism   \n",
       "12                              The Ancient Greek Hero   \n",
       "14        Human Health and Global Environmental Change   \n",
       "17                              The Ancient Greek Hero   \n",
       "..                                                 ...   \n",
       "283  World Religions Through their Scriptures: Hind...   \n",
       "285                First Nights: Symphonie Fantastique   \n",
       "286     Introduction to Family Engagement in Education   \n",
       "288                Introduction to State Space Control   \n",
       "289                     Magnetic Materials and Devices   \n",
       "\n",
       "                                           Instructors  \\\n",
       "4                 [Earl Francis Cook, Marcello Pagano]   \n",
       "8    [Walter Lewin, John Belcher, Peter Dourmashkin...   \n",
       "12                             [Greg Nagy, L.Muellner]   \n",
       "14                    [Aaron Bernstein, Jack Spengler]   \n",
       "17                                         [Greg Nagy]   \n",
       "..                                                 ...   \n",
       "283                             [Neelima Shukla-Bhatt]   \n",
       "285                                        [Tom Kelly]   \n",
       "286                                       [Karen Mapp]   \n",
       "288                      [Jacob White, Joe Steinmeyer]   \n",
       "289                                    [Caroline Ross]   \n",
       "\n",
       "                                        Course Subject  Year  \\\n",
       "4               Government, Health, and Social Science     1   \n",
       "8    Science, Technology, Engineering, and Mathematics     1   \n",
       "12   Humanities, History, Design, Religion, and Edu...     1   \n",
       "14              Government, Health, and Social Science     1   \n",
       "17   Humanities, History, Design, Religion, and Edu...     2   \n",
       "..                                                 ...   ...   \n",
       "283  Humanities, History, Design, Religion, and Edu...     4   \n",
       "285  Humanities, History, Design, Religion, and Edu...     4   \n",
       "286  Humanities, History, Design, Religion, and Edu...     4   \n",
       "288  Science, Technology, Engineering, and Mathematics     4   \n",
       "289  Science, Technology, Engineering, and Mathematics     4   \n",
       "\n",
       "     Participants (Course Content Accessed)  \\\n",
       "4                                     52521   \n",
       "8                                     39178   \n",
       "12                                    25873   \n",
       "14                                    23179   \n",
       "17                                    17604   \n",
       "..                                      ...   \n",
       "283                                    4553   \n",
       "285                                     615   \n",
       "286                                    2871   \n",
       "288                                    1431   \n",
       "289                                    1294   \n",
       "\n",
       "     Audited (> 50% Course Content Accessed)  Certified  % Audited  \\\n",
       "4                                      10729       5058      20.44   \n",
       "8                                       3543       1722       9.04   \n",
       "12                                      1803       1395       6.99   \n",
       "14                                      3727       2743      16.10   \n",
       "17                                      1260        728       7.18   \n",
       "..                                       ...        ...        ...   \n",
       "283                                     1051         70      23.08   \n",
       "285                                      305         20      49.59   \n",
       "286                                      267         20       9.30   \n",
       "288                                      208          8      14.54   \n",
       "289                                      364         38      28.13   \n",
       "\n",
       "     % Certified  % Played Video  % Posted in Forum  % Grade Higher Than Zero  \\\n",
       "4           9.64           77.45              15.98                     32.52   \n",
       "8           4.40           85.30               5.86                     16.04   \n",
       "12          5.41           77.05              13.76                     18.05   \n",
       "14         11.85           85.35              14.48                     29.01   \n",
       "17          4.15           68.77               6.59                     14.96   \n",
       "..           ...             ...                ...                       ...   \n",
       "283         1.54           73.34              16.65                      1.54   \n",
       "285         3.25           80.81               8.78                      3.25   \n",
       "286         0.70           70.11               0.00                      0.70   \n",
       "288         0.56            0.00               3.84                      5.73   \n",
       "289         2.94           49.92               4.40                     14.30   \n",
       "\n",
       "     Median Hours for Certification  Median Age  % Male  % Female  \\\n",
       "4                             76.10        32.0   56.78     43.22   \n",
       "8                            107.88        26.0   85.42     14.58   \n",
       "12                            46.26        32.0   53.31     46.69   \n",
       "14                            21.69        30.0   51.15     48.85   \n",
       "17                            22.10        31.0   52.11     47.89   \n",
       "..                              ...         ...     ...       ...   \n",
       "283                           26.74        31.0   56.97     43.03   \n",
       "285                            5.93        38.0   56.82     43.18   \n",
       "286                           11.33        34.0   25.24     74.76   \n",
       "288                           62.38        25.0   93.44      6.56   \n",
       "289                           40.59        25.0   85.95     14.05   \n",
       "\n",
       "     % Bachelor's Degree or Higher  \n",
       "4                            88.33  \n",
       "8                            56.97  \n",
       "12                           71.95  \n",
       "14                           75.19  \n",
       "17                           68.75  \n",
       "..                             ...  \n",
       "283                          74.39  \n",
       "285                          74.66  \n",
       "286                          82.31  \n",
       "288                          72.31  \n",
       "289                          65.78  \n",
       "\n",
       "[122 rows x 20 columns]"
      ]
     },
     "execution_count": 28,
     "metadata": {},
     "output_type": "execute_result"
    }
   ],
   "source": [
    "unique_courses_df"
   ]
  },
  {
   "cell_type": "markdown",
   "id": "7c134d1f-e5d2-41f5-ab73-03778ed50680",
   "metadata": {},
   "source": [
    "### Combine Unique and Duplicate Courses ###"
   ]
  },
  {
   "cell_type": "code",
   "execution_count": 29,
   "id": "e4f46096-2b2d-47f7-8b6a-8740357dbeb6",
   "metadata": {},
   "outputs": [],
   "source": [
    "# Add unique courses to final_df\n",
    "final_df = pd.concat([final_df, unique_courses_df])"
   ]
  },
  {
   "cell_type": "code",
   "execution_count": 30,
   "id": "c752c68a-52a2-4e82-80be-71edf6906115",
   "metadata": {},
   "outputs": [],
   "source": [
    "# Reset index for consistent further processing\n",
    "final_df = final_df.reset_index()"
   ]
  },
  {
   "cell_type": "code",
   "execution_count": 31,
   "id": "a6aec3b5-b7a6-4a30-a7ef-4020e34dd7c4",
   "metadata": {},
   "outputs": [],
   "source": [
    "# final_df"
   ]
  },
  {
   "cell_type": "markdown",
   "id": "ff6190ef-ccbf-4c14-b9b3-778756902314",
   "metadata": {},
   "source": [
    "# Text Pre-Processing #"
   ]
  },
  {
   "cell_type": "code",
   "execution_count": 32,
   "id": "9cd93e2d-7987-42a6-bd86-61382e32f30a",
   "metadata": {},
   "outputs": [],
   "source": [
    "# Import text processing libraries\n",
    "import nltk\n",
    "import re"
   ]
  },
  {
   "cell_type": "code",
   "execution_count": 33,
   "id": "402ca2ed-3b03-4b21-b43f-ecd2d01362a4",
   "metadata": {},
   "outputs": [],
   "source": [
    "# Define a subset of the dataframe that contains only necessary columns\n",
    "CB_df = final_df[[\"Institution\",\"Course Number\", \"Course Title\", \"Instructors\", \"Course Subject\", \"% Certified\"]].copy()"
   ]
  },
  {
   "cell_type": "code",
   "execution_count": 34,
   "id": "b423e948-b85f-4bc3-9f5a-b2edcfb5029f",
   "metadata": {},
   "outputs": [
    {
     "data": {
      "text/html": [
       "<div>\n",
       "<style scoped>\n",
       "    .dataframe tbody tr th:only-of-type {\n",
       "        vertical-align: middle;\n",
       "    }\n",
       "\n",
       "    .dataframe tbody tr th {\n",
       "        vertical-align: top;\n",
       "    }\n",
       "\n",
       "    .dataframe thead th {\n",
       "        text-align: right;\n",
       "    }\n",
       "</style>\n",
       "<table border=\"1\" class=\"dataframe\">\n",
       "  <thead>\n",
       "    <tr style=\"text-align: right;\">\n",
       "      <th></th>\n",
       "      <th>Institution</th>\n",
       "      <th>Course Number</th>\n",
       "      <th>Course Title</th>\n",
       "      <th>Instructors</th>\n",
       "      <th>Course Subject</th>\n",
       "      <th>% Certified</th>\n",
       "    </tr>\n",
       "  </thead>\n",
       "  <tbody>\n",
       "    <tr>\n",
       "      <th>0</th>\n",
       "      <td>MITx</td>\n",
       "      <td>6.00.1x</td>\n",
       "      <td>Introduction to Computer Science and Programming</td>\n",
       "      <td>[Eric Grimson, John Guttag, Ana Bell]</td>\n",
       "      <td>Computer Science</td>\n",
       "      <td>8.252222</td>\n",
       "    </tr>\n",
       "    <tr>\n",
       "      <th>1</th>\n",
       "      <td>MITx</td>\n",
       "      <td>3.091x</td>\n",
       "      <td>Introduction to Solid State Chemistry</td>\n",
       "      <td>[Michael Cima]</td>\n",
       "      <td>Science, Technology, Engineering, and Mathematics</td>\n",
       "      <td>4.840000</td>\n",
       "    </tr>\n",
       "    <tr>\n",
       "      <th>2</th>\n",
       "      <td>MITx</td>\n",
       "      <td>6.002x</td>\n",
       "      <td>Circuits and Electronics</td>\n",
       "      <td>[Khurram Afridi, Tania Khanna, Anant Agarwal, ...</td>\n",
       "      <td>Science, Technology, Engineering, and Mathematics</td>\n",
       "      <td>4.010000</td>\n",
       "    </tr>\n",
       "    <tr>\n",
       "      <th>3</th>\n",
       "      <td>MITx</td>\n",
       "      <td>6.00.2x</td>\n",
       "      <td>Introduction to Computational Thinking and Dat...</td>\n",
       "      <td>[Eric Grimson, John Guttag, Ana Bell]</td>\n",
       "      <td>Computer Science</td>\n",
       "      <td>9.842000</td>\n",
       "    </tr>\n",
       "    <tr>\n",
       "      <th>4</th>\n",
       "      <td>MITx</td>\n",
       "      <td>14.73x</td>\n",
       "      <td>The Challenges of Global Poverty</td>\n",
       "      <td>[Esther Duflo, Abhijit Banerjee, Duflo, Banerj...</td>\n",
       "      <td>Government, Health, and Social Science</td>\n",
       "      <td>10.285000</td>\n",
       "    </tr>\n",
       "  </tbody>\n",
       "</table>\n",
       "</div>"
      ],
      "text/plain": [
       "  Institution Course Number  \\\n",
       "0        MITx       6.00.1x   \n",
       "1        MITx        3.091x   \n",
       "2        MITx        6.002x   \n",
       "3        MITx       6.00.2x   \n",
       "4        MITx        14.73x   \n",
       "\n",
       "                                        Course Title  \\\n",
       "0   Introduction to Computer Science and Programming   \n",
       "1              Introduction to Solid State Chemistry   \n",
       "2                           Circuits and Electronics   \n",
       "3  Introduction to Computational Thinking and Dat...   \n",
       "4                   The Challenges of Global Poverty   \n",
       "\n",
       "                                         Instructors  \\\n",
       "0              [Eric Grimson, John Guttag, Ana Bell]   \n",
       "1                                     [Michael Cima]   \n",
       "2  [Khurram Afridi, Tania Khanna, Anant Agarwal, ...   \n",
       "3              [Eric Grimson, John Guttag, Ana Bell]   \n",
       "4  [Esther Duflo, Abhijit Banerjee, Duflo, Banerj...   \n",
       "\n",
       "                                      Course Subject  % Certified  \n",
       "0                                   Computer Science     8.252222  \n",
       "1  Science, Technology, Engineering, and Mathematics     4.840000  \n",
       "2  Science, Technology, Engineering, and Mathematics     4.010000  \n",
       "3                                   Computer Science     9.842000  \n",
       "4             Government, Health, and Social Science    10.285000  "
      ]
     },
     "execution_count": 34,
     "metadata": {},
     "output_type": "execute_result"
    }
   ],
   "source": [
    "CB_df.head()"
   ]
  },
  {
   "cell_type": "markdown",
   "id": "89ee648e-2353-49cf-9fad-9289337f13f7",
   "metadata": {},
   "source": [
    "### *Define Functions for Text Processing* ###"
   ]
  },
  {
   "cell_type": "code",
   "execution_count": 35,
   "id": "df55ecc7-e3fd-472d-a22c-62216f51f0e6",
   "metadata": {
    "tags": []
   },
   "outputs": [],
   "source": [
    "# DEFINE FUNCTIONS FOR TEXT PRE-PROCESSING\n",
    "\n",
    "# Stop words list\n",
    "stopwords_list = ['the','a','an', 'and','or','for','so','as','either','or', 'to', \n",
    "                  'of', 'in', 'on', 'i','me','its', 'they', 'them', 'he', 'she''after',\n",
    "                  'where', 'unless','whether','because','since','until','before','when',\n",
    "                  'while', 'which', 'whose', 'this','that', 'those','these', 'with', \n",
    "                  'at','by','down','during', 'for','from','in','into','of','off','on','over', 'past']\n",
    "\n",
    "\n",
    "# Remove punctuation/special characters\n",
    "def clean_text(text):\n",
    "    '''\n",
    "        Function that removes punctuation and special characters\n",
    "        \n",
    "        Input: \n",
    "             String of text\n",
    "        \n",
    "        Output: \n",
    "            String of text with punctuation and special characters removed\n",
    "    '''\n",
    "\n",
    "    \n",
    "    # Define punctuation\n",
    "    hyph = r\"(\\s+\\-+|\\–+\\s+)\"   # remove dashes only if accompanied by spaces; account for different lengths of dashes\n",
    "    punct = r\"[:;,\\.!?]\" \n",
    " \n",
    "    \n",
    "    sp_char = r\"[%\\^\\&\\$#@\\*\\+\\[\\]\\(\\)\\\\\\/\\_\\\"\\'\\’]\"\n",
    "    \n",
    "    # Set to lower case\n",
    "    text = text.lower()\n",
    "\n",
    "    # Remove dashes and replace with space\n",
    "    cleaned_text = re.sub(hyph, \" \", text)\n",
    "    \n",
    "    # Remove punctuation\n",
    "    cleaned_text = re.sub(punct, \"\", cleaned_text)\n",
    "    \n",
    "    # Remove special characters\n",
    "    cleaned_text = re.sub(sp_char, \"\", cleaned_text)\n",
    "\n",
    "    \n",
    "    return cleaned_text\n",
    "    \n",
    "\n",
    "def remove_stopwords(tokens, stopwords=stopwords_list):\n",
    "    '''\n",
    "        Function that removes stop words from a tokenized text.\n",
    "        \n",
    "        Input:\n",
    "            List of tokens\n",
    "            \n",
    "        Output:\n",
    "            List of tokens with stopwords removed\n",
    "            \n",
    "    '''\n",
    "    \n",
    "    filtered_tokens = [token for token in tokens if token not in stopwords]\n",
    "    \n",
    "    return list(set(filtered_tokens))\n",
    "    \n",
    "# #clean_text('the ancient greek hero in 24 hours (hours 12-15): cult of heroes')\n",
    "# clean_text('atomic and optical physics: atom-light interactions 1 s-- matrix elements and quantized field')"
   ]
  },
  {
   "cell_type": "code",
   "execution_count": 36,
   "id": "0d08f81d-ea2b-4999-9dc6-fd146d2c0fcf",
   "metadata": {
    "tags": []
   },
   "outputs": [],
   "source": [
    "# combine genre and title: https://ybshankar010.medium.com/from-genres-to-conversations-next-gen-movie-recommendations-with-llms-6041aab6defa\n",
    "subj_codes = {\n",
    "    'cs': 'Computer Science',\n",
    "    'ghss': 'Government, Health, and Social Science',\n",
    "    'hhdre': 'Humanities, History, Design, Religion, and Education',\n",
    "    'stem': 'Science, Technology, Engineering, and Mathematics'\n",
    "}\n",
    "\n",
    "\n",
    "def assign_subject_code (subj, codes_dict = subj_codes):\n",
    "    '''\n",
    "        Assign codes to subject\n",
    "        \n",
    "        Inputs:\n",
    "            - subj: specific subject listed in database\n",
    "            - codes_dict: dictionary containing subject codes and full subject names\n",
    "            \n",
    "        Outputs:\n",
    "            - course code\n",
    "    \n",
    "    '''\n",
    "    \n",
    "    for code, subject in codes_dict.items():\n",
    "        if subject == subj:\n",
    "            return code"
   ]
  },
  {
   "cell_type": "markdown",
   "id": "5fe3dfed-9733-494b-a96e-eb06f79b4e26",
   "metadata": {},
   "source": [
    "### *Convert course titles to keyword tokens* ###"
   ]
  },
  {
   "cell_type": "code",
   "execution_count": 37,
   "id": "0ac271ac-77ef-4ec3-a7fa-21f3000f0d2f",
   "metadata": {
    "tags": []
   },
   "outputs": [],
   "source": [
    "# Isolate titles in dataframe\n",
    "titles = CB_df[\"Course Title\"]\n",
    "# titles"
   ]
  },
  {
   "cell_type": "code",
   "execution_count": 38,
   "id": "3845995a-435e-4e11-bad0-aade2df46929",
   "metadata": {
    "tags": []
   },
   "outputs": [],
   "source": [
    "# Remove punctuation and special characters\n",
    "clean_titles = [clean_text(title) for title in titles]\n",
    "#clean_titles"
   ]
  },
  {
   "cell_type": "code",
   "execution_count": 39,
   "id": "a9d35f6c-cea1-41ea-9968-ca72d3ccf287",
   "metadata": {
    "tags": []
   },
   "outputs": [],
   "source": [
    "# Tokenize title strings\n",
    "tokenized_titles = [nltk.word_tokenize(title) for title in clean_titles]\n",
    "#tokenized_titles"
   ]
  },
  {
   "cell_type": "code",
   "execution_count": 40,
   "id": "9c244709-1bd4-47f0-8724-21de00b3d9fb",
   "metadata": {
    "tags": []
   },
   "outputs": [],
   "source": [
    "# Filter stopwords\n",
    "filtered_tokens = [remove_stopwords(title) for title in tokenized_titles]\n",
    "#filtered_tokens"
   ]
  },
  {
   "cell_type": "markdown",
   "id": "8307b917-cbde-4475-b465-3e96c1443109",
   "metadata": {},
   "source": [
    "### *Assign subject codes as unique tokens* ###"
   ]
  },
  {
   "cell_type": "code",
   "execution_count": 41,
   "id": "98be6d72-9880-47d5-af67-c0fff997236c",
   "metadata": {},
   "outputs": [
    {
     "data": {
      "text/html": [
       "<div>\n",
       "<style scoped>\n",
       "    .dataframe tbody tr th:only-of-type {\n",
       "        vertical-align: middle;\n",
       "    }\n",
       "\n",
       "    .dataframe tbody tr th {\n",
       "        vertical-align: top;\n",
       "    }\n",
       "\n",
       "    .dataframe thead th {\n",
       "        text-align: right;\n",
       "    }\n",
       "</style>\n",
       "<table border=\"1\" class=\"dataframe\">\n",
       "  <thead>\n",
       "    <tr style=\"text-align: right;\">\n",
       "      <th></th>\n",
       "      <th>Institution</th>\n",
       "      <th>Course Number</th>\n",
       "      <th>Course Title</th>\n",
       "      <th>Instructors</th>\n",
       "      <th>Course Subject</th>\n",
       "      <th>% Certified</th>\n",
       "      <th>subj_codes</th>\n",
       "    </tr>\n",
       "  </thead>\n",
       "  <tbody>\n",
       "    <tr>\n",
       "      <th>0</th>\n",
       "      <td>MITx</td>\n",
       "      <td>6.00.1x</td>\n",
       "      <td>Introduction to Computer Science and Programming</td>\n",
       "      <td>[Eric Grimson, John Guttag, Ana Bell]</td>\n",
       "      <td>Computer Science</td>\n",
       "      <td>8.252222</td>\n",
       "      <td>cs</td>\n",
       "    </tr>\n",
       "    <tr>\n",
       "      <th>1</th>\n",
       "      <td>MITx</td>\n",
       "      <td>3.091x</td>\n",
       "      <td>Introduction to Solid State Chemistry</td>\n",
       "      <td>[Michael Cima]</td>\n",
       "      <td>Science, Technology, Engineering, and Mathematics</td>\n",
       "      <td>4.840000</td>\n",
       "      <td>stem</td>\n",
       "    </tr>\n",
       "    <tr>\n",
       "      <th>2</th>\n",
       "      <td>MITx</td>\n",
       "      <td>6.002x</td>\n",
       "      <td>Circuits and Electronics</td>\n",
       "      <td>[Khurram Afridi, Tania Khanna, Anant Agarwal, ...</td>\n",
       "      <td>Science, Technology, Engineering, and Mathematics</td>\n",
       "      <td>4.010000</td>\n",
       "      <td>stem</td>\n",
       "    </tr>\n",
       "    <tr>\n",
       "      <th>3</th>\n",
       "      <td>MITx</td>\n",
       "      <td>6.00.2x</td>\n",
       "      <td>Introduction to Computational Thinking and Dat...</td>\n",
       "      <td>[Eric Grimson, John Guttag, Ana Bell]</td>\n",
       "      <td>Computer Science</td>\n",
       "      <td>9.842000</td>\n",
       "      <td>cs</td>\n",
       "    </tr>\n",
       "    <tr>\n",
       "      <th>4</th>\n",
       "      <td>MITx</td>\n",
       "      <td>14.73x</td>\n",
       "      <td>The Challenges of Global Poverty</td>\n",
       "      <td>[Esther Duflo, Abhijit Banerjee, Duflo, Banerj...</td>\n",
       "      <td>Government, Health, and Social Science</td>\n",
       "      <td>10.285000</td>\n",
       "      <td>ghss</td>\n",
       "    </tr>\n",
       "  </tbody>\n",
       "</table>\n",
       "</div>"
      ],
      "text/plain": [
       "  Institution Course Number  \\\n",
       "0        MITx       6.00.1x   \n",
       "1        MITx        3.091x   \n",
       "2        MITx        6.002x   \n",
       "3        MITx       6.00.2x   \n",
       "4        MITx        14.73x   \n",
       "\n",
       "                                        Course Title  \\\n",
       "0   Introduction to Computer Science and Programming   \n",
       "1              Introduction to Solid State Chemistry   \n",
       "2                           Circuits and Electronics   \n",
       "3  Introduction to Computational Thinking and Dat...   \n",
       "4                   The Challenges of Global Poverty   \n",
       "\n",
       "                                         Instructors  \\\n",
       "0              [Eric Grimson, John Guttag, Ana Bell]   \n",
       "1                                     [Michael Cima]   \n",
       "2  [Khurram Afridi, Tania Khanna, Anant Agarwal, ...   \n",
       "3              [Eric Grimson, John Guttag, Ana Bell]   \n",
       "4  [Esther Duflo, Abhijit Banerjee, Duflo, Banerj...   \n",
       "\n",
       "                                      Course Subject  % Certified subj_codes  \n",
       "0                                   Computer Science     8.252222         cs  \n",
       "1  Science, Technology, Engineering, and Mathematics     4.840000       stem  \n",
       "2  Science, Technology, Engineering, and Mathematics     4.010000       stem  \n",
       "3                                   Computer Science     9.842000         cs  \n",
       "4             Government, Health, and Social Science    10.285000       ghss  "
      ]
     },
     "execution_count": 41,
     "metadata": {},
     "output_type": "execute_result"
    }
   ],
   "source": [
    "CB_df[\"subj_codes\"] = [assign_subject_code(subject) for subject in CB_df[\"Course Subject\"]]\n",
    "CB_df.head()"
   ]
  },
  {
   "cell_type": "markdown",
   "id": "543dbccd-7688-4b6d-a679-ad15ec5df9ee",
   "metadata": {},
   "source": [
    "### Combine subject codes and titles for keyword list ###"
   ]
  },
  {
   "cell_type": "code",
   "execution_count": 42,
   "id": "c04cfb6b-240b-40e2-940c-5579d16cc06e",
   "metadata": {},
   "outputs": [
    {
     "data": {
      "text/html": [
       "<div>\n",
       "<style scoped>\n",
       "    .dataframe tbody tr th:only-of-type {\n",
       "        vertical-align: middle;\n",
       "    }\n",
       "\n",
       "    .dataframe tbody tr th {\n",
       "        vertical-align: top;\n",
       "    }\n",
       "\n",
       "    .dataframe thead th {\n",
       "        text-align: right;\n",
       "    }\n",
       "</style>\n",
       "<table border=\"1\" class=\"dataframe\">\n",
       "  <thead>\n",
       "    <tr style=\"text-align: right;\">\n",
       "      <th></th>\n",
       "      <th>Institution</th>\n",
       "      <th>Course Number</th>\n",
       "      <th>Course Title</th>\n",
       "      <th>Instructors</th>\n",
       "      <th>Course Subject</th>\n",
       "      <th>% Certified</th>\n",
       "      <th>subj_codes</th>\n",
       "      <th>title_and_subject</th>\n",
       "    </tr>\n",
       "  </thead>\n",
       "  <tbody>\n",
       "    <tr>\n",
       "      <th>0</th>\n",
       "      <td>MITx</td>\n",
       "      <td>6.00.1x</td>\n",
       "      <td>Introduction to Computer Science and Programming</td>\n",
       "      <td>[Eric Grimson, John Guttag, Ana Bell]</td>\n",
       "      <td>Computer Science</td>\n",
       "      <td>8.252222</td>\n",
       "      <td>cs</td>\n",
       "      <td>[computer, science, programming, introduction,...</td>\n",
       "    </tr>\n",
       "    <tr>\n",
       "      <th>1</th>\n",
       "      <td>MITx</td>\n",
       "      <td>3.091x</td>\n",
       "      <td>Introduction to Solid State Chemistry</td>\n",
       "      <td>[Michael Cima]</td>\n",
       "      <td>Science, Technology, Engineering, and Mathematics</td>\n",
       "      <td>4.840000</td>\n",
       "      <td>stem</td>\n",
       "      <td>[state, chemistry, solid, introduction, stem]</td>\n",
       "    </tr>\n",
       "    <tr>\n",
       "      <th>2</th>\n",
       "      <td>MITx</td>\n",
       "      <td>6.002x</td>\n",
       "      <td>Circuits and Electronics</td>\n",
       "      <td>[Khurram Afridi, Tania Khanna, Anant Agarwal, ...</td>\n",
       "      <td>Science, Technology, Engineering, and Mathematics</td>\n",
       "      <td>4.010000</td>\n",
       "      <td>stem</td>\n",
       "      <td>[circuits, electronics, stem]</td>\n",
       "    </tr>\n",
       "    <tr>\n",
       "      <th>3</th>\n",
       "      <td>MITx</td>\n",
       "      <td>6.00.2x</td>\n",
       "      <td>Introduction to Computational Thinking and Dat...</td>\n",
       "      <td>[Eric Grimson, John Guttag, Ana Bell]</td>\n",
       "      <td>Computer Science</td>\n",
       "      <td>9.842000</td>\n",
       "      <td>cs</td>\n",
       "      <td>[thinking, computational, introduction, data, ...</td>\n",
       "    </tr>\n",
       "    <tr>\n",
       "      <th>4</th>\n",
       "      <td>MITx</td>\n",
       "      <td>14.73x</td>\n",
       "      <td>The Challenges of Global Poverty</td>\n",
       "      <td>[Esther Duflo, Abhijit Banerjee, Duflo, Banerj...</td>\n",
       "      <td>Government, Health, and Social Science</td>\n",
       "      <td>10.285000</td>\n",
       "      <td>ghss</td>\n",
       "      <td>[global, challenges, poverty, ghss]</td>\n",
       "    </tr>\n",
       "  </tbody>\n",
       "</table>\n",
       "</div>"
      ],
      "text/plain": [
       "  Institution Course Number  \\\n",
       "0        MITx       6.00.1x   \n",
       "1        MITx        3.091x   \n",
       "2        MITx        6.002x   \n",
       "3        MITx       6.00.2x   \n",
       "4        MITx        14.73x   \n",
       "\n",
       "                                        Course Title  \\\n",
       "0   Introduction to Computer Science and Programming   \n",
       "1              Introduction to Solid State Chemistry   \n",
       "2                           Circuits and Electronics   \n",
       "3  Introduction to Computational Thinking and Dat...   \n",
       "4                   The Challenges of Global Poverty   \n",
       "\n",
       "                                         Instructors  \\\n",
       "0              [Eric Grimson, John Guttag, Ana Bell]   \n",
       "1                                     [Michael Cima]   \n",
       "2  [Khurram Afridi, Tania Khanna, Anant Agarwal, ...   \n",
       "3              [Eric Grimson, John Guttag, Ana Bell]   \n",
       "4  [Esther Duflo, Abhijit Banerjee, Duflo, Banerj...   \n",
       "\n",
       "                                      Course Subject  % Certified subj_codes  \\\n",
       "0                                   Computer Science     8.252222         cs   \n",
       "1  Science, Technology, Engineering, and Mathematics     4.840000       stem   \n",
       "2  Science, Technology, Engineering, and Mathematics     4.010000       stem   \n",
       "3                                   Computer Science     9.842000         cs   \n",
       "4             Government, Health, and Social Science    10.285000       ghss   \n",
       "\n",
       "                                   title_and_subject  \n",
       "0  [computer, science, programming, introduction,...  \n",
       "1      [state, chemistry, solid, introduction, stem]  \n",
       "2                      [circuits, electronics, stem]  \n",
       "3  [thinking, computational, introduction, data, ...  \n",
       "4                [global, challenges, poverty, ghss]  "
      ]
     },
     "execution_count": 42,
     "metadata": {},
     "output_type": "execute_result"
    }
   ],
   "source": [
    "# Zip titles and subject codes and flatten zip\n",
    "# Reference consulted for flattening a zipped list: https://stackoverflow.com/questions/40709321/python-flattening-a-zip\n",
    "CB_df[\"title_and_subject\"]= [list((*a, b)) for a, b in zip(filtered_tokens, list(CB_df['subj_codes']))]\n",
    "\n",
    "# Check results\n",
    "CB_df.head()"
   ]
  },
  {
   "cell_type": "markdown",
   "id": "ec75f690-c4ed-4458-bf09-2913fdcdc816",
   "metadata": {},
   "source": [
    "# Process Keywords for the Content-Based Filter #"
   ]
  },
  {
   "cell_type": "code",
   "execution_count": 43,
   "id": "bee2b504-f811-4833-a684-c43d6c7c91fb",
   "metadata": {},
   "outputs": [],
   "source": [
    "# Import necessary packages\n",
    "from sklearn.model_selection import train_test_split\n",
    "from sklearn.feature_extraction.text import TfidfVectorizer\n",
    "from sklearn.metrics.pairwise import cosine_similarity\n",
    "from scipy import sparse"
   ]
  },
  {
   "cell_type": "markdown",
   "id": "c797bdab-a698-4627-bea0-eccb77634a2b",
   "metadata": {},
   "source": [
    "### *Apportion a test set from the CB dataframe for future testing* ###"
   ]
  },
  {
   "cell_type": "code",
   "execution_count": 44,
   "id": "0404356d-70d2-428f-acb4-7c5e7e896825",
   "metadata": {},
   "outputs": [],
   "source": [
    "CB_train_df, CB_test_df = train_test_split(CB_df, test_size=0.1, random_state=7,stratify=CB_df[\"subj_codes\"])"
   ]
  },
  {
   "cell_type": "markdown",
   "id": "93adfb81-51f2-4b55-90e1-a2c12625cc0c",
   "metadata": {},
   "source": [
    "### *Create TF-IDF vectors from training data* ###"
   ]
  },
  {
   "cell_type": "code",
   "execution_count": 45,
   "id": "22e5c587-4fab-43e7-bfe1-8f9cfa90915b",
   "metadata": {},
   "outputs": [],
   "source": [
    "# Create a dummy vectorizer function in order to avoid the in-built tokenization process\n",
    "#  of the TfidfVectorizer\n",
    "def dummy(t):\n",
    "    return t\n",
    "\n",
    "# Define a TF-IDF Vectorizer\n",
    "vectorizer = TfidfVectorizer(analyzer=dummy)"
   ]
  },
  {
   "cell_type": "code",
   "execution_count": 46,
   "id": "76dfff6b-6acc-49ed-b40c-77c5d7e2e9d8",
   "metadata": {
    "tags": []
   },
   "outputs": [],
   "source": [
    "# Extract keywords and preserve attachment to index numbers\n",
    "training_keywords = [(i, row[\"title_and_subject\"]) for (i, row) in CB_train_df.iterrows()]\n",
    "#training_keywords"
   ]
  },
  {
   "cell_type": "code",
   "execution_count": 47,
   "id": "91e5626d-b3ee-471e-9a73-80a04f8d9c18",
   "metadata": {
    "tags": []
   },
   "outputs": [],
   "source": [
    "# Extract keywords only for TF-IDF vectorization\n",
    "term_list = [term[1] for term in training_keywords]\n",
    "# term_list"
   ]
  },
  {
   "cell_type": "code",
   "execution_count": 48,
   "id": "5f0c87c3-c0c1-4a9f-b85c-d3d2f01a4670",
   "metadata": {},
   "outputs": [],
   "source": [
    "# Transform training set\n",
    "tfidf = vectorizer.fit_transform(term_list)\n",
    "\n",
    "# Check vocabulary\n",
    "#vectorizer.get_feature_names() # vectorizer.get_feature_names_out()"
   ]
  },
  {
   "cell_type": "markdown",
   "id": "06f7b08b-312e-40a8-bb03-5f0ee8898313",
   "metadata": {
    "tags": []
   },
   "source": [
    "### *Prepare Test Data* ###\n",
    "This stage consists in extracting keywords and respective indices from the test set and vectorizing the keywords."
   ]
  },
  {
   "cell_type": "code",
   "execution_count": 49,
   "id": "a3529e77-ad8f-40b2-9582-7f584b7b22f4",
   "metadata": {
    "tags": []
   },
   "outputs": [],
   "source": [
    "# Collect test keywords along with their respective indices\n",
    "test_keywords = [(i, row[\"title_and_subject\"]) for (i, row) in CB_test_df.iterrows()]\n",
    "# test_keywords"
   ]
  },
  {
   "cell_type": "code",
   "execution_count": 50,
   "id": "84e43b76-ffba-486d-8b34-d925d4c69cb6",
   "metadata": {
    "tags": []
   },
   "outputs": [],
   "source": [
    "# Vectorize the keywords for further processing\n",
    "test_vecs = [vectorizer.transform([terms[1]]) for terms in  test_keywords]\n",
    "#test_vecs"
   ]
  },
  {
   "cell_type": "markdown",
   "id": "c651c8cf-938d-4812-bcda-f4cda7a1ec15",
   "metadata": {},
   "source": [
    "# Content-Based Recommender Pipeline #\n",
    "The CB recommender pipeline is based on a function that takes a set of keywords, be it part of the test set or directly inputted by a user, encodes it using a TF-IDF vectorizer that was fit to the dataset (in this case, the training subset), and returns a list of recommendations depending upon the information available from the user. This pipeline envisions 3 different tiers of useres:\n",
    "1) Users whose preference is utterly unknown\n",
    "2) Users who include only a subject of interest\n",
    "3) Users who define a set of keywords"
   ]
  },
  {
   "cell_type": "code",
   "execution_count": 120,
   "id": "d0d45c14-48d7-43e5-bbac-4c2623a9288d",
   "metadata": {},
   "outputs": [],
   "source": [
    "# Define functions for the CB Recommender Pipeline\n",
    "\n",
    "def CB_recommender(user, df=CB_df, n=5):\n",
    "    \n",
    "    '''\n",
    "        \n",
    "    '''\n",
    "    \n",
    "    # Case 1: No information from user\n",
    "    if (user[\"subject\"]==\"\" and len(user[\"keywords\"])==0):\n",
    "               \n",
    "        # Filter dataframe in accordance with completion rates\n",
    "        filtered_df = df.sort_values(by=\"% Certified\", ascending=False)[:n]\n",
    "    \n",
    "        return filtered_df\n",
    "\n",
    "    # Case 2: Subject Information Only\n",
    "    elif (user[\"subject\"]!=\"\" and len(user[\"keywords\"])==0):\n",
    "        # consider including try statement\n",
    "        filtered_df = df.loc[[user[\"subject\"] in keywords for keywords in df[\"title_and_subject\"]]]\n",
    "        \n",
    "        return filtered_df.sort_values(by=\"% Certified\", ascending=False)[:n]\n",
    "    \n",
    "    # Case 3: Subject and Keywords\n",
    "    else:\n",
    "        \n",
    "        # Combine keywords and subject and run search on combined list\n",
    "        tokens = user[\"keywords\"]\n",
    "        if (user[\"subject\"]!=\"\"):\n",
    "            tokens.append(user[\"subject\"])\n",
    "        \n",
    "        \n",
    "        cosine_similarities = keyword_search(tokens)\n",
    "#         print(cosine_similarities)\n",
    "        # encode and measure cosine similarity\n",
    "        return np.argsort(cosine_similarities)[:(-n-1):-1]\n",
    "\n",
    "    \n",
    "def keyword_search (query, encoded_course_matrix=tfidf):\n",
    "    \n",
    "    query_vec = encode_query(query)\n",
    "#     print(query_vec)\n",
    "    \n",
    "    res_vec = np.zeros(encoded_course_matrix.shape[0])\n",
    "    \n",
    "    for i,course_vec in enumerate(encoded_course_matrix):\n",
    "        res_vec[i] = cosine_similarity(course_vec, query_vec)[0][0] # store value only \n",
    "    \n",
    "    return res_vec\n",
    "\n",
    "def encode_query (keywords, vectorizer = vectorizer):\n",
    "    \n",
    "    return vectorizer.transform([keywords])"
   ]
  },
  {
   "cell_type": "code",
   "execution_count": 52,
   "id": "bcf0b738-b523-4d75-be02-8c83a4fe268b",
   "metadata": {},
   "outputs": [],
   "source": [
    "# test_user1 = {\n",
    "#     \"subject\": \"\",\n",
    "#     \"keywords\": []\n",
    "# }\n",
    "\n",
    "# test_user2 = {\n",
    "#     \"subject\": \"hhdre\",\n",
    "#     \"keywords\": []\n",
    "# }\n",
    "\n",
    "# test_user3 = {\n",
    "#     \"subject\": \"cs\",\n",
    "#     \"keywords\": [\"python\", \"programming\", \"introduction\"]\n",
    "# }\n"
   ]
  },
  {
   "cell_type": "markdown",
   "id": "d3e0cd77-4c8d-46a7-9d6f-fcc0e7490f15",
   "metadata": {},
   "source": [
    "# Testing #\n"
   ]
  },
  {
   "cell_type": "code",
   "execution_count": 53,
   "id": "61a1abfa-3cc4-4f9e-b214-39e8c28104d8",
   "metadata": {},
   "outputs": [],
   "source": [
    "# vectorizer.transform(test_keywords[0][1]).toarray()"
   ]
  },
  {
   "cell_type": "code",
   "execution_count": 54,
   "id": "9ebec5dd-46ff-416e-97db-75be4d7d1cd9",
   "metadata": {
    "tags": []
   },
   "outputs": [],
   "source": [
    "# To see output\n",
    "#test_vecs[i].toarray()"
   ]
  },
  {
   "cell_type": "code",
   "execution_count": 55,
   "id": "b67e5012-10e6-4997-9a6a-a4bf1c91968c",
   "metadata": {
    "tags": []
   },
   "outputs": [],
   "source": [
    "# tfidf.shape"
   ]
  },
  {
   "cell_type": "code",
   "execution_count": 56,
   "id": "cfe5c98f-ed68-4836-be7f-495e6c7628d6",
   "metadata": {
    "tags": []
   },
   "outputs": [],
   "source": [
    "# results = np.empty((tfidf.shape[0], len(test_vecs)))\n",
    "\n",
    "\n",
    "# for i, train_vec in enumerate(tfidf):\n",
    "#     for j, test_vec in enumerate(test_vecs):\n",
    "#         results[i,j] = cosine_similarity(train_vec,test_vec)[0][0]\n",
    "# # results"
   ]
  },
  {
   "cell_type": "code",
   "execution_count": 57,
   "id": "272df983-85c6-4763-98d1-96aef843fddb",
   "metadata": {
    "tags": []
   },
   "outputs": [],
   "source": [
    "# cosine_similarity(tfidf[0],test_vecs[2])"
   ]
  },
  {
   "cell_type": "code",
   "execution_count": 58,
   "id": "fd02f08a-f16c-422d-b585-8b6b815a0481",
   "metadata": {
    "tags": []
   },
   "outputs": [],
   "source": [
    "# cosine_similarity(tfidf[1],test_vecs[8])"
   ]
  },
  {
   "cell_type": "code",
   "execution_count": 59,
   "id": "c1b2e5ab-e2b5-47e4-8e14-fefedb24a25b",
   "metadata": {
    "tags": []
   },
   "outputs": [],
   "source": [
    "# results[:6,:10]"
   ]
  },
  {
   "cell_type": "code",
   "execution_count": 60,
   "id": "33aedfa3-2b47-43fc-93c8-d25ef867ac7b",
   "metadata": {
    "tags": []
   },
   "outputs": [],
   "source": [
    "# results[0,2]"
   ]
  },
  {
   "cell_type": "code",
   "execution_count": 61,
   "id": "acdc4388-3f7d-4dd9-82db-63ecadc42e21",
   "metadata": {
    "tags": []
   },
   "outputs": [],
   "source": [
    "# results = np.empty((tfidf.shape[0], len(test_vecs)))\n",
    "\n",
    "\n",
    "# for i, train_vec in enumerate(tfidf[:6]):\n",
    "#     for j, test_vec in enumerate(test_vecs[:3]):\n",
    "#         results[i,j] = cosine_similarity(train_vec,test_vec)[0][0]"
   ]
  },
  {
   "cell_type": "code",
   "execution_count": 62,
   "id": "c3001cef-0f87-4819-9997-2549cceeedce",
   "metadata": {
    "tags": []
   },
   "outputs": [],
   "source": [
    "# m = []\n",
    "\n",
    "# for i in range(5):\n",
    "#     m.append([])\n",
    "#     for j in range(6, 10):\n",
    "#         m[i].append(j)\n",
    "# m"
   ]
  },
  {
   "cell_type": "code",
   "execution_count": 63,
   "id": "9c1ab769-4a06-4d34-b41d-ba312fb69209",
   "metadata": {
    "tags": []
   },
   "outputs": [],
   "source": [
    "# REFER BACK TO INDEX IN ORDER TO SORT BY SIMILARITY\n",
    "\n",
    "# results = np.empty((tfidf.shape[0], len(test_vecs)))\n",
    "\n",
    "# for i, train_vec in enumerate(tfidf):\n",
    "#     for j,test_vec in enumerate(test_vecs):\n",
    "#         results[i,j] = cosine_similarity(train_vec, test_vec)[0][0] # store value only\n",
    "    \n",
    "# results.shape"
   ]
  },
  {
   "cell_type": "code",
   "execution_count": 64,
   "id": "56db789b-cdc2-4fcb-b28f-ea705f3384b5",
   "metadata": {
    "tags": []
   },
   "outputs": [],
   "source": [
    "# results[:10, :10]"
   ]
  },
  {
   "cell_type": "code",
   "execution_count": 65,
   "id": "d81eaa2e-f1ee-416e-8c3b-b5274dfadbb3",
   "metadata": {
    "tags": []
   },
   "outputs": [],
   "source": [
    "# RETURN TO THIS!!!!! PERHAPS INCLUDE IN EVAUATION SECTION !!!\n",
    "# plt.figure(figsize = (10, 10))\n",
    "# ax = sns.heatmap(results)"
   ]
  },
  {
   "cell_type": "markdown",
   "id": "830662b8-3623-482a-9f48-981e2d669974",
   "metadata": {
    "tags": []
   },
   "source": [
    "## Sort Recommendations for Each Test Vector ##"
   ]
  },
  {
   "cell_type": "code",
   "execution_count": 66,
   "id": "7648037d-af96-480f-89a4-578fdd39e3e0",
   "metadata": {
    "tags": []
   },
   "outputs": [],
   "source": [
    "# https://stackoverflow.com/questions/66679020/python-quickest-way-to-sort-list-and-keep-indexes\n",
    "#list(enumerate(results[:,0]))"
   ]
  },
  {
   "cell_type": "code",
   "execution_count": 67,
   "id": "194504e7-ede8-4c73-b8b2-8d736dd1295d",
   "metadata": {
    "tags": []
   },
   "outputs": [],
   "source": [
    "# recommendations = np.argsort(results[:,5])[:-10:-1]\n",
    "# recommendations"
   ]
  },
  {
   "cell_type": "code",
   "execution_count": 68,
   "id": "90dde43e-2f83-4ff2-90e9-97d8188a391c",
   "metadata": {
    "tags": []
   },
   "outputs": [],
   "source": [
    "# test_keywords[5]"
   ]
  },
  {
   "cell_type": "code",
   "execution_count": 69,
   "id": "e1fe7860-74fb-470f-9b08-78bf74999ebe",
   "metadata": {
    "tags": []
   },
   "outputs": [],
   "source": [
    "# rec_list = []\n",
    "# for rec in recommendations:\n",
    "#     print(training_keywords[rec])\n",
    "#     rec_list.append(training_keywords[rec])"
   ]
  },
  {
   "cell_type": "code",
   "execution_count": 70,
   "id": "08a358e8-a24f-46a1-8b4b-6123538bba37",
   "metadata": {
    "tags": []
   },
   "outputs": [],
   "source": [
    "# test_df.loc[179]"
   ]
  },
  {
   "cell_type": "code",
   "execution_count": 71,
   "id": "6b985839-ffae-4f6b-9559-4e097a2f337e",
   "metadata": {
    "tags": []
   },
   "outputs": [],
   "source": [
    "#[train_df.loc[rec[0]] for rec in rec_list]"
   ]
  },
  {
   "cell_type": "code",
   "execution_count": 72,
   "id": "d8d8111e-3b7b-4f99-8fb8-375fe5c55475",
   "metadata": {
    "tags": []
   },
   "outputs": [],
   "source": [
    "# test_keywords[0]"
   ]
  },
  {
   "cell_type": "code",
   "execution_count": 73,
   "id": "cf70015a-8d26-427e-91ca-905ecebfddb9",
   "metadata": {
    "tags": []
   },
   "outputs": [],
   "source": [
    "# test_df.loc[176]"
   ]
  },
  {
   "cell_type": "code",
   "execution_count": 74,
   "id": "e43f2f2d-c97a-4c49-a121-b70e048dbdbc",
   "metadata": {
    "tags": []
   },
   "outputs": [],
   "source": [
    "# recommendations = np.argsort(results[:,0])[:-10:-1]\n",
    "# recommendations"
   ]
  },
  {
   "cell_type": "code",
   "execution_count": 75,
   "id": "295a76cd-df73-49ab-b379-e8f541603dae",
   "metadata": {
    "tags": []
   },
   "outputs": [],
   "source": [
    "# rec_list = []\n",
    "# for rec in recommendations:\n",
    "#     print(training_keywords[rec], train_df.loc[training_keywords[rec][0], \"Course Number\"])\n",
    "#     rec_list.append(training_keywords[rec])"
   ]
  },
  {
   "cell_type": "code",
   "execution_count": 76,
   "id": "339b126c-b0c9-4460-b2b3-fdae89bb3eb4",
   "metadata": {
    "tags": []
   },
   "outputs": [],
   "source": [
    "# x = np.zeros(tfidf.shape[0])\n",
    "# x"
   ]
  },
  {
   "cell_type": "code",
   "execution_count": 77,
   "id": "19a69ff7-1487-4c17-905c-cf1c7713e555",
   "metadata": {},
   "outputs": [],
   "source": [
    "# tfidf.shape"
   ]
  },
  {
   "cell_type": "code",
   "execution_count": 78,
   "id": "9ea6fa5e-ecfc-43b6-8ceb-ecfa0fc6f115",
   "metadata": {},
   "outputs": [],
   "source": [
    "# CB_df.columns"
   ]
  },
  {
   "cell_type": "code",
   "execution_count": 79,
   "id": "84a56740-af0a-4a52-90c0-226b44e16c02",
   "metadata": {
    "tags": []
   },
   "outputs": [],
   "source": [
    "# CB_recommender(test_user1, df)"
   ]
  },
  {
   "cell_type": "code",
   "execution_count": 80,
   "id": "c4c82d48-9e4a-4b41-ac46-c3d5b12b9ddf",
   "metadata": {
    "tags": []
   },
   "outputs": [],
   "source": [
    "# # filter df based on whether subject is in list\n",
    "# CB_df.loc[[\"hhdre\" in keywords for keywords in CB_df[\"title_and_subject\"]]]"
   ]
  },
  {
   "cell_type": "code",
   "execution_count": 81,
   "id": "4f807bfd-4e07-43c9-920c-bfcfffc2957e",
   "metadata": {
    "tags": []
   },
   "outputs": [],
   "source": [
    "# CB_recommender(test_user2)"
   ]
  },
  {
   "cell_type": "code",
   "execution_count": 82,
   "id": "79a603a2-c55d-48cb-82f3-55cded511353",
   "metadata": {},
   "outputs": [],
   "source": [
    "#CB_recommender(test_user3)"
   ]
  },
  {
   "cell_type": "code",
   "execution_count": 83,
   "id": "17d85baa-d4d0-4dfd-b538-30080f177cfd",
   "metadata": {},
   "outputs": [],
   "source": [
    "#recs = CB_recommender(test_user3)\n",
    "#recs"
   ]
  },
  {
   "cell_type": "code",
   "execution_count": 84,
   "id": "576c9dc8-55c0-464c-b02d-a74a357662b1",
   "metadata": {},
   "outputs": [],
   "source": [
    "# for rec in recs:\n",
    "#     print(training_keywords[rec], train_df.loc[training_keywords[rec][0], \"Course Number\"])"
   ]
  },
  {
   "cell_type": "code",
   "execution_count": 85,
   "id": "8e099f1b-39eb-4a5e-ab77-12650ab34775",
   "metadata": {},
   "outputs": [],
   "source": [
    "# test_user4 = {\n",
    "#     \"subject\": \"\",\n",
    "#     \"keywords\": [\"inroduction\", \"mobile\", \"computation\"]\n",
    "# }\n",
    "# recs = CB_recommender(test_user4)\n",
    "# recs"
   ]
  },
  {
   "cell_type": "code",
   "execution_count": 86,
   "id": "21ce98df-c9b9-4d24-a330-d7b8d38cb6c0",
   "metadata": {},
   "outputs": [],
   "source": [
    "# for rec in recs:\n",
    "#     print(training_keywords[rec], train_df.loc[training_keywords[rec][0], \"Course Number\"])"
   ]
  },
  {
   "cell_type": "code",
   "execution_count": 87,
   "id": "326b3ece-8937-4a0f-a183-08c6020d1623",
   "metadata": {
    "tags": []
   },
   "outputs": [],
   "source": [
    "# test_user5 = {\n",
    "#     \"subject\": \"\",\n",
    "#     \"keywords\": [\"python\", \"programming\", \"education\"]\n",
    "# }\n",
    "# recs = CB_recommender(test_user4)\n",
    "# recs"
   ]
  },
  {
   "cell_type": "code",
   "execution_count": 88,
   "id": "cd532a24-1152-44de-9cc0-de19402f87cf",
   "metadata": {},
   "outputs": [],
   "source": [
    "# for rec in recs:\n",
    "#     print(training_keywords[rec], train_df.loc[training_keywords[rec][0], \"Course Number\"])"
   ]
  },
  {
   "cell_type": "markdown",
   "id": "d45385e1-2992-45ae-a0cc-9a8e9479e423",
   "metadata": {},
   "source": [
    "# DEFINE INITIAL TESTING FUNCTION AND INSPECT RESULTS #"
   ]
  },
  {
   "cell_type": "code",
   "execution_count": 89,
   "id": "deea7f0f-dcad-4eb0-bc79-0ca4f867537b",
   "metadata": {},
   "outputs": [],
   "source": [
    "# train_df.iloc[145]"
   ]
  },
  {
   "cell_type": "code",
   "execution_count": null,
   "id": "fd76454f-4937-4414-888b-037c8af08106",
   "metadata": {},
   "outputs": [],
   "source": []
  },
  {
   "cell_type": "code",
   "execution_count": 90,
   "id": "f045a466-12a8-47ac-a02b-3288f872a4e4",
   "metadata": {},
   "outputs": [],
   "source": [
    "# cbres1 = CB_testing()"
   ]
  },
  {
   "cell_type": "code",
   "execution_count": 91,
   "id": "960569e6-5909-4a34-9b86-9ef1ca335bcc",
   "metadata": {},
   "outputs": [],
   "source": [
    "# sns.heatmap(cbres1)"
   ]
  },
  {
   "cell_type": "code",
   "execution_count": null,
   "id": "f279ea55-3544-4494-9f66-f38b558a8d5b",
   "metadata": {},
   "outputs": [],
   "source": []
  },
  {
   "cell_type": "code",
   "execution_count": 92,
   "id": "78361df0-6e5e-40ac-b449-6f60b9018d2b",
   "metadata": {},
   "outputs": [],
   "source": [
    "# test_df.loc[test_keywords[0][0], \"Course Number\"]"
   ]
  },
  {
   "cell_type": "code",
   "execution_count": 93,
   "id": "aa1cedc1-a18e-4e98-9e90-848fc4a88947",
   "metadata": {},
   "outputs": [],
   "source": [
    "# resuts = test_cosine_similarity()\n",
    "# results[:5, :5]"
   ]
  },
  {
   "cell_type": "code",
   "execution_count": 94,
   "id": "b4998f37-7457-47f2-9b2d-e406926c039e",
   "metadata": {
    "tags": []
   },
   "outputs": [],
   "source": [
    "# results.shape"
   ]
  },
  {
   "cell_type": "code",
   "execution_count": 95,
   "id": "e17f0ba2-93f0-45af-b56f-1e89d4a77ac0",
   "metadata": {
    "tags": []
   },
   "outputs": [],
   "source": [
    "# results = test_cosine_similarity()"
   ]
  },
  {
   "cell_type": "code",
   "execution_count": 96,
   "id": "c3d539d9-3e5d-4c89-b942-736a3f7face6",
   "metadata": {
    "tags": []
   },
   "outputs": [],
   "source": [
    "# tabulate_results(results)"
   ]
  },
  {
   "cell_type": "code",
   "execution_count": 97,
   "id": "ecfcd9cc-8e56-4804-9cc8-9b5785075515",
   "metadata": {
    "tags": []
   },
   "outputs": [],
   "source": [
    "# train_df.iloc[125]"
   ]
  },
  {
   "cell_type": "code",
   "execution_count": 98,
   "id": "8692ee7f-9b58-4177-b47e-c7a59d6ba57c",
   "metadata": {
    "tags": []
   },
   "outputs": [],
   "source": [
    "# (30, ['aerodynamics', 'vehicle', 'flight', 'stem'])\n",
    "# (5, ['life', 'biology', 'introduction', 'secret', 'stem'])\n",
    "# (14, ['uncertainty', 'probability', 'introduction', 'science', 'stem'])\n",
    "# (118, ['state', 'control', 'introduction', 'space', 'stem'])\n",
    "# (57, ['feedback', 'theory', 'control', 'introduction', 'stem'])\n",
    "# (31, ['bioconductor', 'introduction', 'ghss'])\n",
    "# (1, ['state', 'chemistry', 'solid', 'introduction', 'stem'])\n",
    "# (7, ['science', 'introduction', 'computer', 'cs'])\n",
    "# (33, ['design', 'introduction', 'game', 'hhdre'])"
   ]
  },
  {
   "cell_type": "code",
   "execution_count": 99,
   "id": "cb1bc143-fbde-4879-a563-c786cf1ebc48",
   "metadata": {
    "tags": []
   },
   "outputs": [],
   "source": [
    "# train_df.iloc[145]"
   ]
  },
  {
   "cell_type": "code",
   "execution_count": 100,
   "id": "d2bb91b1-4556-4cf0-9f00-e90cf95e998d",
   "metadata": {
    "tags": []
   },
   "outputs": [],
   "source": [
    "# train_df.loc[145]"
   ]
  },
  {
   "cell_type": "markdown",
   "id": "d0e42700-9dd5-41c7-a8c1-6a199bd014ab",
   "metadata": {
    "tags": []
   },
   "source": [
    "# ANALYSIS OF TEST RESULTS #\n",
    "* There is still and issue with course-codes, so perhaps the pre-processing stage must be chagned\n",
    "* Because recommendations are based on title and subject keywords, not all recommendations are direclty relevant\n",
    "    * however, approaching the CB recommender in this way allows and element of serendipity, which is sometimes desirable\n",
    "    * one way to improve recommendations would be to include course descriptions and thend o a keyword search based on those\n",
    "* instructor information and other stats coudl probably be used to complement hte CF recommender"
   ]
  },
  {
   "cell_type": "markdown",
   "id": "4854c928-ed35-486b-a4ee-034cdd5a7483",
   "metadata": {},
   "source": [
    "## PRECISION AND RECALL @K ##"
   ]
  },
  {
   "cell_type": "code",
   "execution_count": 101,
   "id": "26e8fd60-bde6-4562-aaee-d05652ef7178",
   "metadata": {},
   "outputs": [],
   "source": [
    "# def tabulate_results(results, test_set = test_keywords, training_set = training_keywords, encoded_course_matrix=tfidf):"
   ]
  },
  {
   "cell_type": "code",
   "execution_count": 102,
   "id": "9738be50-b85d-4e80-82a6-068d742e468d",
   "metadata": {},
   "outputs": [],
   "source": [
    "# test_keywords[:5]"
   ]
  },
  {
   "cell_type": "code",
   "execution_count": 103,
   "id": "9e05ee74-7a61-4742-b667-c213706e028e",
   "metadata": {},
   "outputs": [],
   "source": [
    "# training_keywords[:2]"
   ]
  },
  {
   "cell_type": "code",
   "execution_count": 104,
   "id": "dcd34ce7-d304-4e40-bff3-18fd5d8e641a",
   "metadata": {},
   "outputs": [],
   "source": [
    "# results.shape[1]"
   ]
  },
  {
   "cell_type": "code",
   "execution_count": null,
   "id": "e50a1533-13bd-4dcc-830b-fb001081e884",
   "metadata": {},
   "outputs": [],
   "source": []
  },
  {
   "cell_type": "code",
   "execution_count": 105,
   "id": "5734f67b-a2f2-4424-a9be-216b5e884ac1",
   "metadata": {
    "tags": []
   },
   "outputs": [],
   "source": [
    "# k = 5\n",
    "# stats_at_k = {}\n",
    "\n",
    "# for i in range(results.shape[1]):\n",
    "        \n",
    "#         # Isolate the measured closeness to all vectors in the course matrix\n",
    "#         top_k_recs = np.argsort(results[:,i])[:-6:-1]\n",
    "# #         print(top_k_recs)\n",
    "        \n",
    "#         test_subj = test_keywords[i][1][-1]\n",
    "#         print(f\"Test subject: {test_subj}\")\n",
    "        \n",
    "#         rec_subj = [training_keywords[rec][1][-1] for rec in top_k_recs]\n",
    "#         print(f\"Rec subject: {rec_subj}\")\n",
    "        \n",
    "#         # Calculate accuracy\n",
    "#         count = [1 if test_subj==rec_subj[i] else 0 for i in range(len(top_k_recs))]\n",
    "        \n",
    "#         stats_at_k[i] = sum(count)\n",
    "        "
   ]
  },
  {
   "cell_type": "code",
   "execution_count": 106,
   "id": "5fa0456c-db03-48c9-b6ed-2c3e7e1bb1b2",
   "metadata": {},
   "outputs": [],
   "source": [
    "# stats_at_k"
   ]
  },
  {
   "cell_type": "code",
   "execution_count": 107,
   "id": "8aae50a4-e401-4c3c-917e-1805743762e4",
   "metadata": {},
   "outputs": [],
   "source": [
    "# https://krishnapullak.medium.com/understanding-precision-recall-and-f-score-at-k-in-recommender-systems-7146a0dce68e\n",
    "\n",
    "# Precision@K: proportion of relevant items among top K recs\n",
    "# p@k = # relevant items in top k / k\n",
    "\n",
    "# Recall@K: ability of recommender to identify all relevant items within top K recs; system comprehensiveness\n",
    "# r@k = # relevant items in top k / total number of relevant items\n",
    "\n",
    "\n",
    "# https://neptune.ai/blog/recommender-systems-metrics\n",
    "# *** https://www.evidentlyai.com/ranking-metrics/precision-recall-at-k ***"
   ]
  },
  {
   "cell_type": "code",
   "execution_count": 108,
   "id": "cbdfc42c-68bf-46ae-acbb-c845f0276b31",
   "metadata": {},
   "outputs": [],
   "source": [
    "# precision_at_k = {}\n",
    "\n",
    "# for i in range(len(stats_at_k)):\n",
    "#     precision_at_k[i] = stats_at_k[i]/k\n",
    "    \n",
    "# precision_at_k"
   ]
  },
  {
   "cell_type": "code",
   "execution_count": 109,
   "id": "5e29b0b8-57cf-43cc-be7f-03015016acc2",
   "metadata": {},
   "outputs": [],
   "source": [
    "# avg_precision_at_k = sum(precision_at_k.values())/len(precision_at_k)\n",
    "# avg_precision_at_k"
   ]
  },
  {
   "cell_type": "code",
   "execution_count": null,
   "id": "0dad24c6-f399-4df6-b4d7-bd7ee241f27a",
   "metadata": {},
   "outputs": [],
   "source": []
  },
  {
   "cell_type": "code",
   "execution_count": 110,
   "id": "39f0f870-0bf4-450a-a766-b9cfa47dd03a",
   "metadata": {
    "tags": []
   },
   "outputs": [],
   "source": [
    "# k = 5\n",
    "# word_stats_p_at_k = {}\n",
    "# avg_p_at_k = {}\n",
    "\n",
    "# for i in range(results.shape[1]):\n",
    "        \n",
    "#         # Isolate the measured closeness to all vectors in the course matrix\n",
    "#         top_k_recs = np.argsort(results[:,i])[:-6:-1]\n",
    "#         print(top_k_recs)\n",
    "        \n",
    "#         test_words = test_keywords[i][1]\n",
    "#         print(f\"Test subject: {test_words}, {len(test_words)}\")\n",
    "        \n",
    "#         rec_words = [training_keywords[rec][1] for rec in top_k_recs]\n",
    "# #         print(f\"Rec subject: {rec_words}\")\n",
    "        \n",
    "#         word_stats_p_at_k[i] = []\n",
    "#         # https://stackoverflow.com/questions/1388818/how-can-i-compare-two-lists-in-python-and-return-matches\n",
    "#         for rec in rec_words:\n",
    "#             print(f\"Set: {set(test_words) & set(rec)}\")\n",
    "#             print(rec)\n",
    "#             word_stats_p_at_k[i].append(len(set(test_words) & set(rec))/len(rec))\n",
    "            \n",
    "#         avg_p_at_k[i] = sum(word_stats_p_at_k[i])/5\n",
    "        \n",
    "            \n",
    "        \n",
    "#         print(\"-------------------------------------------------------------------------------------------------------\")\n",
    "#         # Calculate accuracy\n",
    "# #         count = [1 if test_subj==rec_subj[i] else 0 for i in range(len(top_k_recs))]\n",
    "        \n",
    "# #         stats_at_k[i] = sum(count)\n",
    "        "
   ]
  },
  {
   "cell_type": "code",
   "execution_count": 111,
   "id": "edad25fa-dc6a-4716-b980-787ad2a4ec58",
   "metadata": {},
   "outputs": [],
   "source": [
    "# word_stats_p_at_k"
   ]
  },
  {
   "cell_type": "code",
   "execution_count": 112,
   "id": "b92b26ef-cd8f-4b5a-aa8c-cf7bbede9911",
   "metadata": {},
   "outputs": [],
   "source": [
    "# avg_p_at_k"
   ]
  },
  {
   "cell_type": "code",
   "execution_count": 113,
   "id": "d612af5e-1c35-427e-8307-7b3beecb0baf",
   "metadata": {},
   "outputs": [],
   "source": [
    "# sum(avg_p_at_k.values())/len(avg_p_at_k)"
   ]
  },
  {
   "cell_type": "code",
   "execution_count": 114,
   "id": "18a8ba38-ceb1-4a99-ae83-c19b8b9010ed",
   "metadata": {},
   "outputs": [],
   "source": [
    "# Recall@K: ability of recommender to identify all relevant items within top K recs; system comprehensiveness\n",
    "# r@k = # relevant items in top k / total number of relevant items\n",
    "# total relevant items: all words in test string\n",
    "# relevant items in top k = number of common words\n",
    "# divide by 5 (k) for avg"
   ]
  },
  {
   "cell_type": "code",
   "execution_count": 115,
   "id": "5441bdf1-00d6-4408-80bc-8f6ed59afbf8",
   "metadata": {
    "tags": []
   },
   "outputs": [],
   "source": [
    "# k = 5\n",
    "# word_stats_r_at_k = {}\n",
    "# avg_r_at_k = {}\n",
    "\n",
    "# for i in range(results.shape[1]):\n",
    "        \n",
    "#         # Isolate the measured closeness to all vectors in the course matrix\n",
    "#         top_k_recs = np.argsort(results[:,i])[:-6:-1]\n",
    "# #         print(top_k_recs)\n",
    "        \n",
    "#         test_words = test_keywords[i][1]\n",
    "#         print(f\"Test subject: {test_words}, {len(test_words)}\")\n",
    "        \n",
    "#         rec_words = [training_keywords[rec][1] for rec in top_k_recs]\n",
    "# #         print(f\"Rec subject: {rec_words}\")\n",
    "        \n",
    "#         word_stats_r_at_k[i] = []\n",
    "#         # https://stackoverflow.com/questions/1388818/how-can-i-compare-two-lists-in-python-and-return-matches\n",
    "#         for rec in rec_words:\n",
    "#             print(len(set(test_words) & set(rec)))\n",
    "#             word_stats_r_at_k[i].append(len(set(test_words) & set(rec))/len(test_words))\n",
    "            \n",
    "#         avg_r_at_k[i] = sum(word_stats_r_at_k[i])/5\n",
    "# #             print(rec)\n",
    "            \n",
    "        \n",
    "#         print(\"-------------------------------------------------------------------------------------------------------\")\n",
    "#         # Calculate accuracy\n",
    "# #         count = [1 if test_subj==rec_subj[i] else 0 for i in range(len(top_k_recs))]\n",
    "        \n",
    "# #         stats_at_k[i] = sum(count)\n",
    "        "
   ]
  },
  {
   "cell_type": "code",
   "execution_count": 116,
   "id": "3799940a-d1ec-4696-a31b-34f86b80c93c",
   "metadata": {},
   "outputs": [],
   "source": [
    "# word_stats_r_at_k"
   ]
  },
  {
   "cell_type": "code",
   "execution_count": 117,
   "id": "f54fad34-33dc-4853-8ccc-fa6b4380541e",
   "metadata": {},
   "outputs": [],
   "source": [
    "# avg_r_at_k"
   ]
  },
  {
   "cell_type": "code",
   "execution_count": 118,
   "id": "6e3f4be4-5271-4575-97e2-63e95f4a322f",
   "metadata": {},
   "outputs": [],
   "source": [
    "# sum(avg_r_at_k.values())/len(avg_r_at_k)"
   ]
  },
  {
   "cell_type": "code",
   "execution_count": 119,
   "id": "1ee68d39-0a3d-4248-bcfb-b284b587ec67",
   "metadata": {},
   "outputs": [],
   "source": [
    "# tfidf.toarray()"
   ]
  },
  {
   "cell_type": "code",
   "execution_count": null,
   "id": "9272eb9b-27c7-4e25-a064-51badb3742b3",
   "metadata": {},
   "outputs": [],
   "source": []
  }
 ],
 "metadata": {
  "kernelspec": {
   "display_name": "Python 3",
   "language": "python",
   "name": "python3"
  },
  "language_info": {
   "codemirror_mode": {
    "name": "ipython",
    "version": 3
   },
   "file_extension": ".py",
   "mimetype": "text/x-python",
   "name": "python",
   "nbconvert_exporter": "python",
   "pygments_lexer": "ipython3",
   "version": "3.8.8"
  }
 },
 "nbformat": 4,
 "nbformat_minor": 5
}
